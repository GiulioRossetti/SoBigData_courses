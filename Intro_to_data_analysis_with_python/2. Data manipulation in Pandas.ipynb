{
 "cells": [
  {
   "cell_type": "markdown",
   "metadata": {
    "collapsed": true
   },
   "source": [
    "<span>\n",
    "<img src=\"http://www.sobigdata.eu/sites/default/files/logo-SoBigData-DEFINITIVO.png\" width=\"180px\" align=\"right\"/>\n",
    "</span>\n",
    "<span>\n",
    "<b>Author:</b> <a href=\"http://about.giuliorossetti.net\">Giulio Rossetti</a><br/>\n",
    "<b>Python version:</b>  3.x<br/>\n",
    "<b>Last update:</b> 22/01/2018\n",
    "</span>"
   ]
  },
  {
   "cell_type": "markdown",
   "metadata": {
    "collapsed": true
   },
   "source": [
    "<a id='top'></a>\n",
    "# *Data Manipulation with Pandas*\n",
    "This notebook contains an overview of basic Pandas functionalities.\n",
    "\n",
    "**Note:** this notebook is purposely not 100% comprehensive, it only discusses the basic things you need to get started."
   ]
  },
  {
   "cell_type": "markdown",
   "metadata": {},
   "source": [
    "## Table of Contents\n",
    "1. [Series](#series) \n",
    "    1. [Create](#sa)\n",
    "    2. [Index and Slice](#sb)\n",
    "    3. [Adding/Merging](#sc)\n",
    "2. [DataFrames](#dataframes) \n",
    "    1. [Create and Access](#da)\n",
    "    2. [Load a DataFrame from csv file](#db)\n",
    "    3. [Reshape](#dc)\n",
    "        1. [Index and Slice Columns](#dc1)\n",
    "        2. [Select/Index Rows](#dc2)\n",
    "        3. [Create and Delete Columns/Rows](#dc3)\n",
    "        4. [Subset](#dc4)\n",
    "        5. [Conditional Selection](#dc5)\n",
    "        6. [Re-setting and Setting Index](#dc6)\n",
    "        7. [Multi-indexing](#dc7)\n",
    "    4. [Data Transformation](#de)\n",
    "        1. [Missing Values](#de1)\n",
    "        2. [GroupBy](#de2)\n",
    "        3. [Concatenation](#de3)\n",
    "        4. [Merging](#de4)\n",
    "        5. [Joining](#de5)\n",
    "        6. [Miscellanea](#de6)"
   ]
  },
  {
   "cell_type": "code",
   "execution_count": 1,
   "metadata": {
    "ExecuteTime": {
     "end_time": "2023-09-01T06:33:35.549036Z",
     "start_time": "2023-09-01T06:33:33.496203Z"
    }
   },
   "outputs": [],
   "source": [
    "import numpy as np\n",
    "import pandas as pd"
   ]
  },
  {
   "cell_type": "markdown",
   "metadata": {},
   "source": [
    "<a id='series'></a>\n",
    "## 1. Series ([to top](#top))\n",
    "\n",
    "Pandas Series are **one-dimensional** labeled arrays capable of holding any data type (integers, strings, floating point numbers...) <br/>\n",
    "The axis labels are collectively referred to as the **index**. "
   ]
  },
  {
   "cell_type": "markdown",
   "metadata": {},
   "source": [
    "<a id='sa'></a>\n",
    "### 1.A Create ([to top](#top))\n",
    "Pandas Series can be build by leveraging different data types"
   ]
  },
  {
   "cell_type": "markdown",
   "metadata": {},
   "source": [
    "From numerical data"
   ]
  },
  {
   "cell_type": "code",
   "execution_count": 2,
   "metadata": {
    "ExecuteTime": {
     "end_time": "2023-09-01T06:33:42.120637Z",
     "start_time": "2023-09-01T06:33:42.082168Z"
    }
   },
   "outputs": [
    {
     "data": {
      "text/plain": "0    10\n1    20\n2    30\ndtype: int64"
     },
     "execution_count": 2,
     "metadata": {},
     "output_type": "execute_result"
    }
   ],
   "source": [
    "my_data = [10,20,30]\n",
    "pd.Series(data=my_data)"
   ]
  },
  {
   "cell_type": "markdown",
   "metadata": {},
   "source": [
    "From numerical data and corresponding index (row labels)"
   ]
  },
  {
   "cell_type": "code",
   "execution_count": 3,
   "metadata": {
    "ExecuteTime": {
     "end_time": "2023-09-01T06:33:44.795362Z",
     "start_time": "2023-09-01T06:33:44.777410Z"
    }
   },
   "outputs": [
    {
     "data": {
      "text/plain": "A    10\nB    20\nC    30\ndtype: int64"
     },
     "execution_count": 3,
     "metadata": {},
     "output_type": "execute_result"
    }
   ],
   "source": [
    "labels = ['A','B','C']\n",
    "pd.Series(data=my_data, index=labels)"
   ]
  },
  {
   "cell_type": "markdown",
   "metadata": {},
   "source": [
    "Just using a pre-defined dictionary"
   ]
  },
  {
   "cell_type": "code",
   "execution_count": 4,
   "metadata": {
    "ExecuteTime": {
     "end_time": "2023-09-01T06:33:52.397381Z",
     "start_time": "2023-09-01T06:33:52.375063Z"
    }
   },
   "outputs": [
    {
     "data": {
      "text/plain": "A    10\nB    20\nC    30\ndtype: int64"
     },
     "execution_count": 4,
     "metadata": {},
     "output_type": "execute_result"
    }
   ],
   "source": [
    "d = {'A':10,'B':20,'C':30}\n",
    "pd.Series(d)"
   ]
  },
  {
   "cell_type": "markdown",
   "metadata": {},
   "source": [
    "<a id='sb'></a>\n",
    "### 1.B Index and Slice ([to top](#top))\n",
    "Series can be indexed and sliced"
   ]
  },
  {
   "cell_type": "code",
   "execution_count": 5,
   "metadata": {
    "ExecuteTime": {
     "end_time": "2023-09-01T06:33:53.674858Z",
     "start_time": "2023-09-01T06:33:53.655152Z"
    }
   },
   "outputs": [
    {
     "name": "stdout",
     "output_type": "stream",
     "text": [
      "by name, A: 1\n",
      "by positional value in the series, A: 1\n",
      "by range, B:D\n",
      "B    2\n",
      "C    3\n",
      "D    4\n",
      "dtype: int64\n"
     ]
    }
   ],
   "source": [
    "ser = pd.Series([1, 2, 3, 4], ['A', 'B', 'C', 'D'])\n",
    "\n",
    "print(\"by name, A:\", ser['A'])\n",
    "print(\"by positional value in the series, A:\", ser[0])\n",
    "print(\"by range, B:D\\n\", ser[1:4], sep='')"
   ]
  },
  {
   "cell_type": "markdown",
   "metadata": {},
   "source": [
    "<a id='sc'></a>\n",
    "### 1.C Adding/Merging  ([to top](#top))\n",
    "Series havin having common indices can be combined"
   ]
  },
  {
   "cell_type": "code",
   "execution_count": 6,
   "metadata": {
    "ExecuteTime": {
     "end_time": "2023-09-01T06:33:56.930855Z",
     "start_time": "2023-09-01T06:33:56.913130Z"
    }
   },
   "outputs": [],
   "source": [
    "ser1 = pd.Series([1, 2, 3, 4], ['A', 'B', 'C', 'D'])\n",
    "ser2 = pd.Series([1, 2, 5, 4], ['A', 'B', 'E', 'D'])\n",
    "ser3 = ser1+ser2"
   ]
  },
  {
   "cell_type": "markdown",
   "metadata": {},
   "source": [
    "After adding the two series, the result looks like this..."
   ]
  },
  {
   "cell_type": "code",
   "execution_count": 7,
   "metadata": {
    "ExecuteTime": {
     "end_time": "2023-09-01T06:34:00.392535Z",
     "start_time": "2023-09-01T06:34:00.345452Z"
    }
   },
   "outputs": [
    {
     "data": {
      "text/plain": "A    2.0\nB    4.0\nC    NaN\nD    8.0\nE    NaN\ndtype: float64"
     },
     "execution_count": 7,
     "metadata": {},
     "output_type": "execute_result"
    }
   ],
   "source": [
    "ser3"
   ]
  },
  {
   "cell_type": "markdown",
   "metadata": {},
   "source": [
    "Python tries to add values where it finds common index name, and puts NaN where indices are missing <br/>\n",
    "The same happens for all possible operations (e.g., product)"
   ]
  },
  {
   "cell_type": "code",
   "execution_count": 8,
   "metadata": {
    "ExecuteTime": {
     "end_time": "2023-09-01T06:34:17.412674Z",
     "start_time": "2023-09-01T06:34:17.389120Z"
    }
   },
   "outputs": [
    {
     "data": {
      "text/plain": "A     1.0\nB     4.0\nC     NaN\nD    16.0\nE     NaN\ndtype: float64"
     },
     "execution_count": 8,
     "metadata": {},
     "output_type": "execute_result"
    }
   ],
   "source": [
    "ser1*ser2"
   ]
  },
  {
   "cell_type": "markdown",
   "metadata": {},
   "source": [
    "<a id='dataframes'></a>\n",
    "## 2. DataFrame ([to top](#top))\n",
    "A DataFrame is a **2-dimensional** labeled data structure with columns of potentially different types. <br/>\n",
    "You can think of it like a spreadsheet or SQL table, or a dict of Series objects. <br/>\n",
    "It is generally the most commonly used pandas object."
   ]
  },
  {
   "cell_type": "code",
   "execution_count": 9,
   "metadata": {
    "ExecuteTime": {
     "end_time": "2023-09-01T06:34:19.936639Z",
     "start_time": "2023-09-01T06:34:19.908975Z"
    }
   },
   "outputs": [],
   "source": [
    "from numpy.random import randn as rn"
   ]
  },
  {
   "cell_type": "markdown",
   "metadata": {},
   "source": [
    "<a id='da'></a>\n",
    "### 2.A Create and Access ([to top](#top))\n",
    "We start generating some random data..."
   ]
  },
  {
   "cell_type": "code",
   "execution_count": 10,
   "metadata": {
    "ExecuteTime": {
     "end_time": "2023-09-01T06:34:21.467205Z",
     "start_time": "2023-09-01T06:34:21.448976Z"
    }
   },
   "outputs": [
    {
     "data": {
      "text/plain": "array([[ 0.26743873,  0.98953223,  0.23225527, -0.44244591],\n       [-0.80924616,  0.30080056,  0.20135332,  0.06512674],\n       [ 1.02101342, -1.04870364,  0.4461839 , -1.56344312],\n       [-0.13577441,  0.48456665,  0.67251112,  0.51181276],\n       [-0.22743822, -0.66156282,  0.16536224, -0.49756965]])"
     },
     "execution_count": 10,
     "metadata": {},
     "output_type": "execute_result"
    }
   ],
   "source": [
    "np.random.seed()\n",
    "matrix_data = rn(5,4)\n",
    "matrix_data"
   ]
  },
  {
   "cell_type": "markdown",
   "metadata": {},
   "source": [
    "Now we can transform such random matrix in a DataFrame"
   ]
  },
  {
   "cell_type": "code",
   "execution_count": 11,
   "metadata": {
    "ExecuteTime": {
     "end_time": "2023-09-01T06:34:25.886729Z",
     "start_time": "2023-09-01T06:34:25.865051Z"
    }
   },
   "outputs": [
    {
     "data": {
      "text/plain": "          W         X         Y         Z\nA  0.267439  0.989532  0.232255 -0.442446\nB -0.809246  0.300801  0.201353  0.065127\nC  1.021013 -1.048704  0.446184 -1.563443\nD -0.135774  0.484567  0.672511  0.511813\nE -0.227438 -0.661563  0.165362 -0.497570",
      "text/html": "<div>\n<style scoped>\n    .dataframe tbody tr th:only-of-type {\n        vertical-align: middle;\n    }\n\n    .dataframe tbody tr th {\n        vertical-align: top;\n    }\n\n    .dataframe thead th {\n        text-align: right;\n    }\n</style>\n<table border=\"1\" class=\"dataframe\">\n  <thead>\n    <tr style=\"text-align: right;\">\n      <th></th>\n      <th>W</th>\n      <th>X</th>\n      <th>Y</th>\n      <th>Z</th>\n    </tr>\n  </thead>\n  <tbody>\n    <tr>\n      <th>A</th>\n      <td>0.267439</td>\n      <td>0.989532</td>\n      <td>0.232255</td>\n      <td>-0.442446</td>\n    </tr>\n    <tr>\n      <th>B</th>\n      <td>-0.809246</td>\n      <td>0.300801</td>\n      <td>0.201353</td>\n      <td>0.065127</td>\n    </tr>\n    <tr>\n      <th>C</th>\n      <td>1.021013</td>\n      <td>-1.048704</td>\n      <td>0.446184</td>\n      <td>-1.563443</td>\n    </tr>\n    <tr>\n      <th>D</th>\n      <td>-0.135774</td>\n      <td>0.484567</td>\n      <td>0.672511</td>\n      <td>0.511813</td>\n    </tr>\n    <tr>\n      <th>E</th>\n      <td>-0.227438</td>\n      <td>-0.661563</td>\n      <td>0.165362</td>\n      <td>-0.497570</td>\n    </tr>\n  </tbody>\n</table>\n</div>"
     },
     "execution_count": 11,
     "metadata": {},
     "output_type": "execute_result"
    }
   ],
   "source": [
    "row_labels = ['A','B','C','D','E']\n",
    "column_headings = ['W','X','Y','Z']\n",
    "\n",
    "df = pd.DataFrame(data=matrix_data, index=row_labels, columns=column_headings)\n",
    "df"
   ]
  },
  {
   "cell_type": "markdown",
   "metadata": {},
   "source": [
    "<a id='db'></a>\n",
    "### 2.B Load a DataFrame from csv file ([to top](#top))\n",
    "Datasets formatted as csv files can be easily loaded into a DataFrame"
   ]
  },
  {
   "cell_type": "code",
   "execution_count": 12,
   "metadata": {
    "ExecuteTime": {
     "end_time": "2023-09-01T06:34:27.579448Z",
     "start_time": "2023-09-01T06:34:27.566131Z"
    }
   },
   "outputs": [],
   "source": [
    "titanic = pd.read_csv(\"data/titanic_passengers.csv\")"
   ]
  },
  {
   "cell_type": "code",
   "execution_count": 13,
   "metadata": {
    "ExecuteTime": {
     "end_time": "2023-09-01T06:34:28.309441Z",
     "start_time": "2023-09-01T06:34:28.290138Z"
    }
   },
   "outputs": [
    {
     "data": {
      "text/plain": "   PassengerId                                               Name     Sex  \\\n0            1                            Braund, Mr. Owen Harris    male   \n1            2  Cumings, Mrs. John Bradley (Florence Briggs Th...  female   \n2            3                             Heikkinen, Miss. Laina  female   \n3            4       Futrelle, Mrs. Jacques Heath (Lily May Peel)  female   \n4            5                           Allen, Mr. William Henry    male   \n\n    Age  SibSp  Parch  \n0  22.0      1      0  \n1  38.0      1      0  \n2  26.0      0      0  \n3  35.0      1      0  \n4  35.0      0      0  ",
      "text/html": "<div>\n<style scoped>\n    .dataframe tbody tr th:only-of-type {\n        vertical-align: middle;\n    }\n\n    .dataframe tbody tr th {\n        vertical-align: top;\n    }\n\n    .dataframe thead th {\n        text-align: right;\n    }\n</style>\n<table border=\"1\" class=\"dataframe\">\n  <thead>\n    <tr style=\"text-align: right;\">\n      <th></th>\n      <th>PassengerId</th>\n      <th>Name</th>\n      <th>Sex</th>\n      <th>Age</th>\n      <th>SibSp</th>\n      <th>Parch</th>\n    </tr>\n  </thead>\n  <tbody>\n    <tr>\n      <th>0</th>\n      <td>1</td>\n      <td>Braund, Mr. Owen Harris</td>\n      <td>male</td>\n      <td>22.0</td>\n      <td>1</td>\n      <td>0</td>\n    </tr>\n    <tr>\n      <th>1</th>\n      <td>2</td>\n      <td>Cumings, Mrs. John Bradley (Florence Briggs Th...</td>\n      <td>female</td>\n      <td>38.0</td>\n      <td>1</td>\n      <td>0</td>\n    </tr>\n    <tr>\n      <th>2</th>\n      <td>3</td>\n      <td>Heikkinen, Miss. Laina</td>\n      <td>female</td>\n      <td>26.0</td>\n      <td>0</td>\n      <td>0</td>\n    </tr>\n    <tr>\n      <th>3</th>\n      <td>4</td>\n      <td>Futrelle, Mrs. Jacques Heath (Lily May Peel)</td>\n      <td>female</td>\n      <td>35.0</td>\n      <td>1</td>\n      <td>0</td>\n    </tr>\n    <tr>\n      <th>4</th>\n      <td>5</td>\n      <td>Allen, Mr. William Henry</td>\n      <td>male</td>\n      <td>35.0</td>\n      <td>0</td>\n      <td>0</td>\n    </tr>\n  </tbody>\n</table>\n</div>"
     },
     "execution_count": 13,
     "metadata": {},
     "output_type": "execute_result"
    }
   ],
   "source": [
    "titanic.head()"
   ]
  },
  {
   "cell_type": "markdown",
   "metadata": {},
   "source": [
    "Simple statistics can be obtained through the *describe* method"
   ]
  },
  {
   "cell_type": "code",
   "execution_count": 14,
   "metadata": {
    "ExecuteTime": {
     "end_time": "2023-09-01T06:34:30.157948Z",
     "start_time": "2023-09-01T06:34:30.133758Z"
    }
   },
   "outputs": [
    {
     "data": {
      "text/plain": "       PassengerId         Age       SibSp       Parch\ncount   891.000000  714.000000  891.000000  891.000000\nmean    446.000000   29.699118    0.523008    0.381594\nstd     257.353842   14.526497    1.102743    0.806057\nmin       1.000000    0.420000    0.000000    0.000000\n25%     223.500000   20.125000    0.000000    0.000000\n50%     446.000000   28.000000    0.000000    0.000000\n75%     668.500000   38.000000    1.000000    0.000000\nmax     891.000000   80.000000    8.000000    6.000000",
      "text/html": "<div>\n<style scoped>\n    .dataframe tbody tr th:only-of-type {\n        vertical-align: middle;\n    }\n\n    .dataframe tbody tr th {\n        vertical-align: top;\n    }\n\n    .dataframe thead th {\n        text-align: right;\n    }\n</style>\n<table border=\"1\" class=\"dataframe\">\n  <thead>\n    <tr style=\"text-align: right;\">\n      <th></th>\n      <th>PassengerId</th>\n      <th>Age</th>\n      <th>SibSp</th>\n      <th>Parch</th>\n    </tr>\n  </thead>\n  <tbody>\n    <tr>\n      <th>count</th>\n      <td>891.000000</td>\n      <td>714.000000</td>\n      <td>891.000000</td>\n      <td>891.000000</td>\n    </tr>\n    <tr>\n      <th>mean</th>\n      <td>446.000000</td>\n      <td>29.699118</td>\n      <td>0.523008</td>\n      <td>0.381594</td>\n    </tr>\n    <tr>\n      <th>std</th>\n      <td>257.353842</td>\n      <td>14.526497</td>\n      <td>1.102743</td>\n      <td>0.806057</td>\n    </tr>\n    <tr>\n      <th>min</th>\n      <td>1.000000</td>\n      <td>0.420000</td>\n      <td>0.000000</td>\n      <td>0.000000</td>\n    </tr>\n    <tr>\n      <th>25%</th>\n      <td>223.500000</td>\n      <td>20.125000</td>\n      <td>0.000000</td>\n      <td>0.000000</td>\n    </tr>\n    <tr>\n      <th>50%</th>\n      <td>446.000000</td>\n      <td>28.000000</td>\n      <td>0.000000</td>\n      <td>0.000000</td>\n    </tr>\n    <tr>\n      <th>75%</th>\n      <td>668.500000</td>\n      <td>38.000000</td>\n      <td>1.000000</td>\n      <td>0.000000</td>\n    </tr>\n    <tr>\n      <th>max</th>\n      <td>891.000000</td>\n      <td>80.000000</td>\n      <td>8.000000</td>\n      <td>6.000000</td>\n    </tr>\n  </tbody>\n</table>\n</div>"
     },
     "execution_count": 14,
     "metadata": {},
     "output_type": "execute_result"
    }
   ],
   "source": [
    "titanic.describe()"
   ]
  },
  {
   "cell_type": "markdown",
   "metadata": {},
   "source": [
    "Or with the *info* one"
   ]
  },
  {
   "cell_type": "code",
   "execution_count": 15,
   "metadata": {
    "ExecuteTime": {
     "end_time": "2023-09-01T06:34:32.048895Z",
     "start_time": "2023-09-01T06:34:31.996878Z"
    }
   },
   "outputs": [
    {
     "name": "stdout",
     "output_type": "stream",
     "text": [
      "<class 'pandas.core.frame.DataFrame'>\n",
      "RangeIndex: 891 entries, 0 to 890\n",
      "Data columns (total 6 columns):\n",
      " #   Column       Non-Null Count  Dtype  \n",
      "---  ------       --------------  -----  \n",
      " 0   PassengerId  891 non-null    int64  \n",
      " 1   Name         891 non-null    object \n",
      " 2   Sex          891 non-null    object \n",
      " 3   Age          714 non-null    float64\n",
      " 4   SibSp        891 non-null    int64  \n",
      " 5   Parch        891 non-null    int64  \n",
      "dtypes: float64(1), int64(3), object(2)\n",
      "memory usage: 41.9+ KB\n"
     ]
    }
   ],
   "source": [
    "titanic.info()"
   ]
  },
  {
   "cell_type": "markdown",
   "metadata": {},
   "source": [
    "<a id='dc'></a>\n",
    "### 2.C Reshape ([to top](#top))\n",
    "DataFrame structures can be reshaped in several ways in order to facilitate the analysis of the data they describe "
   ]
  },
  {
   "cell_type": "markdown",
   "metadata": {},
   "source": [
    "<a id='dc1'></a>\n",
    "### 2.C.a Index and Slice Columns ([to top](#top))"
   ]
  },
  {
   "cell_type": "markdown",
   "metadata": {},
   "source": [
    "Slicing a single column produces a Series..."
   ]
  },
  {
   "cell_type": "code",
   "execution_count": 16,
   "metadata": {
    "ExecuteTime": {
     "end_time": "2023-09-01T06:34:34.495525Z",
     "start_time": "2023-09-01T06:34:34.486323Z"
    }
   },
   "outputs": [
    {
     "data": {
      "text/plain": "0      22.0\n1      38.0\n2      26.0\n3      35.0\n4      35.0\n       ... \n886    27.0\n887    19.0\n888     NaN\n889    26.0\n890    32.0\nName: Age, Length: 891, dtype: float64"
     },
     "execution_count": 16,
     "metadata": {},
     "output_type": "execute_result"
    }
   ],
   "source": [
    "titanic['Age']"
   ]
  },
  {
   "cell_type": "code",
   "execution_count": 17,
   "metadata": {
    "ExecuteTime": {
     "end_time": "2023-09-01T06:34:35.607603Z",
     "start_time": "2023-09-01T06:34:35.562717Z"
    }
   },
   "outputs": [
    {
     "data": {
      "text/plain": "pandas.core.series.Series"
     },
     "execution_count": 17,
     "metadata": {},
     "output_type": "execute_result"
    }
   ],
   "source": [
    "type(titanic['Age'])"
   ]
  },
  {
   "cell_type": "markdown",
   "metadata": {},
   "source": [
    "An alternative syntax to access a single column is the *dot* notation"
   ]
  },
  {
   "cell_type": "code",
   "execution_count": 18,
   "metadata": {
    "ExecuteTime": {
     "end_time": "2023-09-01T06:34:36.468635Z",
     "start_time": "2023-09-01T06:34:36.433909Z"
    }
   },
   "outputs": [
    {
     "data": {
      "text/plain": "0      22.0\n1      38.0\n2      26.0\n3      35.0\n4      35.0\n       ... \n886    27.0\n887    19.0\n888     NaN\n889    26.0\n890    32.0\nName: Age, Length: 891, dtype: float64"
     },
     "execution_count": 18,
     "metadata": {},
     "output_type": "execute_result"
    }
   ],
   "source": [
    "titanic.Age"
   ]
  },
  {
   "cell_type": "markdown",
   "metadata": {},
   "source": [
    "#### Unique values"
   ]
  },
  {
   "cell_type": "code",
   "execution_count": 19,
   "metadata": {
    "ExecuteTime": {
     "end_time": "2023-09-01T06:34:37.269714Z",
     "start_time": "2023-09-01T06:34:37.263526Z"
    }
   },
   "outputs": [
    {
     "data": {
      "text/plain": "array([22.  , 38.  , 26.  , 35.  ,   nan, 54.  ,  2.  , 27.  , 14.  ,\n        4.  , 58.  , 20.  , 39.  , 55.  , 31.  , 34.  , 15.  , 28.  ,\n        8.  , 19.  , 40.  , 66.  , 42.  , 21.  , 18.  ,  3.  ,  7.  ,\n       49.  , 29.  , 65.  , 28.5 ,  5.  , 11.  , 45.  , 17.  , 32.  ,\n       16.  , 25.  ,  0.83, 30.  , 33.  , 23.  , 24.  , 46.  , 59.  ,\n       71.  , 37.  , 47.  , 14.5 , 70.5 , 32.5 , 12.  ,  9.  , 36.5 ,\n       51.  , 55.5 , 40.5 , 44.  ,  1.  , 61.  , 56.  , 50.  , 36.  ,\n       45.5 , 20.5 , 62.  , 41.  , 52.  , 63.  , 23.5 ,  0.92, 43.  ,\n       60.  , 10.  , 64.  , 13.  , 48.  ,  0.75, 53.  , 57.  , 80.  ,\n       70.  , 24.5 ,  6.  ,  0.67, 30.5 ,  0.42, 34.5 , 74.  ])"
     },
     "execution_count": 19,
     "metadata": {},
     "output_type": "execute_result"
    }
   ],
   "source": [
    "titanic['Age'].unique()"
   ]
  },
  {
   "cell_type": "code",
   "execution_count": 20,
   "metadata": {
    "ExecuteTime": {
     "end_time": "2023-09-01T06:34:37.779045Z",
     "start_time": "2023-09-01T06:34:37.758534Z"
    }
   },
   "outputs": [
    {
     "data": {
      "text/plain": "24.00    30\n22.00    27\n18.00    26\n19.00    25\n28.00    25\n         ..\n36.50     1\n55.50     1\n0.92      1\n23.50     1\n74.00     1\nName: Age, Length: 88, dtype: int64"
     },
     "execution_count": 20,
     "metadata": {},
     "output_type": "execute_result"
    }
   ],
   "source": [
    "titanic['Age'].value_counts()"
   ]
  },
  {
   "cell_type": "markdown",
   "metadata": {},
   "source": [
    "#### DataFrame Filter"
   ]
  },
  {
   "cell_type": "markdown",
   "metadata": {},
   "source": [
    "To obtain a DataFrame an additional bracket must be used"
   ]
  },
  {
   "cell_type": "code",
   "execution_count": 21,
   "metadata": {
    "ExecuteTime": {
     "end_time": "2023-09-01T06:34:38.948628Z",
     "start_time": "2023-09-01T06:34:38.941452Z"
    }
   },
   "outputs": [
    {
     "data": {
      "text/plain": "    Age\n0  22.0\n1  38.0\n2  26.0\n3  35.0\n4  35.0",
      "text/html": "<div>\n<style scoped>\n    .dataframe tbody tr th:only-of-type {\n        vertical-align: middle;\n    }\n\n    .dataframe tbody tr th {\n        vertical-align: top;\n    }\n\n    .dataframe thead th {\n        text-align: right;\n    }\n</style>\n<table border=\"1\" class=\"dataframe\">\n  <thead>\n    <tr style=\"text-align: right;\">\n      <th></th>\n      <th>Age</th>\n    </tr>\n  </thead>\n  <tbody>\n    <tr>\n      <th>0</th>\n      <td>22.0</td>\n    </tr>\n    <tr>\n      <th>1</th>\n      <td>38.0</td>\n    </tr>\n    <tr>\n      <th>2</th>\n      <td>26.0</td>\n    </tr>\n    <tr>\n      <th>3</th>\n      <td>35.0</td>\n    </tr>\n    <tr>\n      <th>4</th>\n      <td>35.0</td>\n    </tr>\n  </tbody>\n</table>\n</div>"
     },
     "execution_count": 21,
     "metadata": {},
     "output_type": "execute_result"
    }
   ],
   "source": [
    "titanic[['Age']].head()"
   ]
  },
  {
   "cell_type": "code",
   "execution_count": 22,
   "metadata": {
    "ExecuteTime": {
     "end_time": "2023-09-01T06:34:39.250285Z",
     "start_time": "2023-09-01T06:34:39.240092Z"
    }
   },
   "outputs": [
    {
     "data": {
      "text/plain": "pandas.core.frame.DataFrame"
     },
     "execution_count": 22,
     "metadata": {},
     "output_type": "execute_result"
    }
   ],
   "source": [
    "type(titanic[['Age']])"
   ]
  },
  {
   "cell_type": "code",
   "execution_count": 23,
   "metadata": {
    "ExecuteTime": {
     "end_time": "2023-09-01T06:34:39.724176Z",
     "start_time": "2023-09-01T06:34:39.704415Z"
    }
   },
   "outputs": [
    {
     "data": {
      "text/plain": "    Age     Sex\n0  22.0    male\n1  38.0  female\n2  26.0  female\n3  35.0  female\n4  35.0    male",
      "text/html": "<div>\n<style scoped>\n    .dataframe tbody tr th:only-of-type {\n        vertical-align: middle;\n    }\n\n    .dataframe tbody tr th {\n        vertical-align: top;\n    }\n\n    .dataframe thead th {\n        text-align: right;\n    }\n</style>\n<table border=\"1\" class=\"dataframe\">\n  <thead>\n    <tr style=\"text-align: right;\">\n      <th></th>\n      <th>Age</th>\n      <th>Sex</th>\n    </tr>\n  </thead>\n  <tbody>\n    <tr>\n      <th>0</th>\n      <td>22.0</td>\n      <td>male</td>\n    </tr>\n    <tr>\n      <th>1</th>\n      <td>38.0</td>\n      <td>female</td>\n    </tr>\n    <tr>\n      <th>2</th>\n      <td>26.0</td>\n      <td>female</td>\n    </tr>\n    <tr>\n      <th>3</th>\n      <td>35.0</td>\n      <td>female</td>\n    </tr>\n    <tr>\n      <th>4</th>\n      <td>35.0</td>\n      <td>male</td>\n    </tr>\n  </tbody>\n</table>\n</div>"
     },
     "execution_count": 23,
     "metadata": {},
     "output_type": "execute_result"
    }
   ],
   "source": [
    "titanic[['Age','Sex']].head() # Multiple selection"
   ]
  },
  {
   "cell_type": "markdown",
   "metadata": {},
   "source": [
    "<a id='dc2'></a>\n",
    "### 2.C.b Select/index Rows ([to top](#top))\n",
    "Rows can be indexed by **label** as well as by **index**"
   ]
  },
  {
   "cell_type": "code",
   "execution_count": 24,
   "metadata": {
    "ExecuteTime": {
     "end_time": "2023-09-01T06:34:40.935828Z",
     "start_time": "2023-09-01T06:34:40.928093Z"
    }
   },
   "outputs": [
    {
     "data": {
      "text/plain": "   PassengerId                                               Name     Sex  \\\n1            2  Cumings, Mrs. John Bradley (Florence Briggs Th...  female   \n2            3                             Heikkinen, Miss. Laina  female   \n\n    Age  SibSp  Parch  \n1  38.0      1      0  \n2  26.0      0      0  ",
      "text/html": "<div>\n<style scoped>\n    .dataframe tbody tr th:only-of-type {\n        vertical-align: middle;\n    }\n\n    .dataframe tbody tr th {\n        vertical-align: top;\n    }\n\n    .dataframe thead th {\n        text-align: right;\n    }\n</style>\n<table border=\"1\" class=\"dataframe\">\n  <thead>\n    <tr style=\"text-align: right;\">\n      <th></th>\n      <th>PassengerId</th>\n      <th>Name</th>\n      <th>Sex</th>\n      <th>Age</th>\n      <th>SibSp</th>\n      <th>Parch</th>\n    </tr>\n  </thead>\n  <tbody>\n    <tr>\n      <th>1</th>\n      <td>2</td>\n      <td>Cumings, Mrs. John Bradley (Florence Briggs Th...</td>\n      <td>female</td>\n      <td>38.0</td>\n      <td>1</td>\n      <td>0</td>\n    </tr>\n    <tr>\n      <th>2</th>\n      <td>3</td>\n      <td>Heikkinen, Miss. Laina</td>\n      <td>female</td>\n      <td>26.0</td>\n      <td>0</td>\n      <td>0</td>\n    </tr>\n  </tbody>\n</table>\n</div>"
     },
     "execution_count": 24,
     "metadata": {},
     "output_type": "execute_result"
    }
   ],
   "source": [
    "titanic.loc[[1, 2]]"
   ]
  },
  {
   "cell_type": "code",
   "execution_count": 25,
   "metadata": {
    "ExecuteTime": {
     "end_time": "2023-09-01T06:34:41.559258Z",
     "start_time": "2023-09-01T06:34:41.540218Z"
    }
   },
   "outputs": [
    {
     "data": {
      "text/plain": "   PassengerId                                               Name     Sex  \\\n1            2  Cumings, Mrs. John Bradley (Florence Briggs Th...  female   \n2            3                             Heikkinen, Miss. Laina  female   \n\n    Age  SibSp  Parch  \n1  38.0      1      0  \n2  26.0      0      0  ",
      "text/html": "<div>\n<style scoped>\n    .dataframe tbody tr th:only-of-type {\n        vertical-align: middle;\n    }\n\n    .dataframe tbody tr th {\n        vertical-align: top;\n    }\n\n    .dataframe thead th {\n        text-align: right;\n    }\n</style>\n<table border=\"1\" class=\"dataframe\">\n  <thead>\n    <tr style=\"text-align: right;\">\n      <th></th>\n      <th>PassengerId</th>\n      <th>Name</th>\n      <th>Sex</th>\n      <th>Age</th>\n      <th>SibSp</th>\n      <th>Parch</th>\n    </tr>\n  </thead>\n  <tbody>\n    <tr>\n      <th>1</th>\n      <td>2</td>\n      <td>Cumings, Mrs. John Bradley (Florence Briggs Th...</td>\n      <td>female</td>\n      <td>38.0</td>\n      <td>1</td>\n      <td>0</td>\n    </tr>\n    <tr>\n      <th>2</th>\n      <td>3</td>\n      <td>Heikkinen, Miss. Laina</td>\n      <td>female</td>\n      <td>26.0</td>\n      <td>0</td>\n      <td>0</td>\n    </tr>\n  </tbody>\n</table>\n</div>"
     },
     "execution_count": 25,
     "metadata": {},
     "output_type": "execute_result"
    }
   ],
   "source": [
    "titanic.iloc[[1,2]]"
   ]
  },
  {
   "cell_type": "markdown",
   "metadata": {},
   "source": [
    "<a id='dc3'></a>\n",
    "### 2.C.c Create and Delete Columns/Rows ([to top](#top))"
   ]
  },
  {
   "cell_type": "markdown",
   "metadata": {},
   "source": [
    "Adding a novel column combining existing ones"
   ]
  },
  {
   "cell_type": "code",
   "execution_count": 26,
   "metadata": {
    "ExecuteTime": {
     "end_time": "2023-09-01T06:34:43.092799Z",
     "start_time": "2023-09-01T06:34:43.075506Z"
    }
   },
   "outputs": [
    {
     "data": {
      "text/plain": "   PassengerId                                               Name     Sex  \\\n0            1                            Braund, Mr. Owen Harris    male   \n1            2  Cumings, Mrs. John Bradley (Florence Briggs Th...  female   \n2            3                             Heikkinen, Miss. Laina  female   \n3            4       Futrelle, Mrs. Jacques Heath (Lily May Peel)  female   \n4            5                           Allen, Mr. William Henry    male   \n\n    Age  SibSp  Parch  Family  \n0  22.0      1      0       1  \n1  38.0      1      0       1  \n2  26.0      0      0       0  \n3  35.0      1      0       1  \n4  35.0      0      0       0  ",
      "text/html": "<div>\n<style scoped>\n    .dataframe tbody tr th:only-of-type {\n        vertical-align: middle;\n    }\n\n    .dataframe tbody tr th {\n        vertical-align: top;\n    }\n\n    .dataframe thead th {\n        text-align: right;\n    }\n</style>\n<table border=\"1\" class=\"dataframe\">\n  <thead>\n    <tr style=\"text-align: right;\">\n      <th></th>\n      <th>PassengerId</th>\n      <th>Name</th>\n      <th>Sex</th>\n      <th>Age</th>\n      <th>SibSp</th>\n      <th>Parch</th>\n      <th>Family</th>\n    </tr>\n  </thead>\n  <tbody>\n    <tr>\n      <th>0</th>\n      <td>1</td>\n      <td>Braund, Mr. Owen Harris</td>\n      <td>male</td>\n      <td>22.0</td>\n      <td>1</td>\n      <td>0</td>\n      <td>1</td>\n    </tr>\n    <tr>\n      <th>1</th>\n      <td>2</td>\n      <td>Cumings, Mrs. John Bradley (Florence Briggs Th...</td>\n      <td>female</td>\n      <td>38.0</td>\n      <td>1</td>\n      <td>0</td>\n      <td>1</td>\n    </tr>\n    <tr>\n      <th>2</th>\n      <td>3</td>\n      <td>Heikkinen, Miss. Laina</td>\n      <td>female</td>\n      <td>26.0</td>\n      <td>0</td>\n      <td>0</td>\n      <td>0</td>\n    </tr>\n    <tr>\n      <th>3</th>\n      <td>4</td>\n      <td>Futrelle, Mrs. Jacques Heath (Lily May Peel)</td>\n      <td>female</td>\n      <td>35.0</td>\n      <td>1</td>\n      <td>0</td>\n      <td>1</td>\n    </tr>\n    <tr>\n      <th>4</th>\n      <td>5</td>\n      <td>Allen, Mr. William Henry</td>\n      <td>male</td>\n      <td>35.0</td>\n      <td>0</td>\n      <td>0</td>\n      <td>0</td>\n    </tr>\n  </tbody>\n</table>\n</div>"
     },
     "execution_count": 26,
     "metadata": {},
     "output_type": "execute_result"
    }
   ],
   "source": [
    "titanic['Family'] = titanic['SibSp'] + titanic['Parch']\n",
    "titanic.head()"
   ]
  },
  {
   "cell_type": "markdown",
   "metadata": {},
   "source": [
    "Deleting an existing column"
   ]
  },
  {
   "cell_type": "code",
   "execution_count": 27,
   "metadata": {
    "ExecuteTime": {
     "end_time": "2023-09-01T06:34:44.093187Z",
     "start_time": "2023-09-01T06:34:44.075031Z"
    }
   },
   "outputs": [
    {
     "data": {
      "text/plain": "   PassengerId                                               Name     Sex  \\\n0            1                            Braund, Mr. Owen Harris    male   \n1            2  Cumings, Mrs. John Bradley (Florence Briggs Th...  female   \n2            3                             Heikkinen, Miss. Laina  female   \n3            4       Futrelle, Mrs. Jacques Heath (Lily May Peel)  female   \n4            5                           Allen, Mr. William Henry    male   \n\n    Age  Family  \n0  22.0       1  \n1  38.0       1  \n2  26.0       0  \n3  35.0       1  \n4  35.0       0  ",
      "text/html": "<div>\n<style scoped>\n    .dataframe tbody tr th:only-of-type {\n        vertical-align: middle;\n    }\n\n    .dataframe tbody tr th {\n        vertical-align: top;\n    }\n\n    .dataframe thead th {\n        text-align: right;\n    }\n</style>\n<table border=\"1\" class=\"dataframe\">\n  <thead>\n    <tr style=\"text-align: right;\">\n      <th></th>\n      <th>PassengerId</th>\n      <th>Name</th>\n      <th>Sex</th>\n      <th>Age</th>\n      <th>Family</th>\n    </tr>\n  </thead>\n  <tbody>\n    <tr>\n      <th>0</th>\n      <td>1</td>\n      <td>Braund, Mr. Owen Harris</td>\n      <td>male</td>\n      <td>22.0</td>\n      <td>1</td>\n    </tr>\n    <tr>\n      <th>1</th>\n      <td>2</td>\n      <td>Cumings, Mrs. John Bradley (Florence Briggs Th...</td>\n      <td>female</td>\n      <td>38.0</td>\n      <td>1</td>\n    </tr>\n    <tr>\n      <th>2</th>\n      <td>3</td>\n      <td>Heikkinen, Miss. Laina</td>\n      <td>female</td>\n      <td>26.0</td>\n      <td>0</td>\n    </tr>\n    <tr>\n      <th>3</th>\n      <td>4</td>\n      <td>Futrelle, Mrs. Jacques Heath (Lily May Peel)</td>\n      <td>female</td>\n      <td>35.0</td>\n      <td>1</td>\n    </tr>\n    <tr>\n      <th>4</th>\n      <td>5</td>\n      <td>Allen, Mr. William Henry</td>\n      <td>male</td>\n      <td>35.0</td>\n      <td>0</td>\n    </tr>\n  </tbody>\n</table>\n</div>"
     },
     "execution_count": 27,
     "metadata": {},
     "output_type": "execute_result"
    }
   ],
   "source": [
    "titanic = titanic.drop('Parch', axis=1)\n",
    "titanic = titanic.drop('SibSp', axis=1)\n",
    "titanic.head()"
   ]
  },
  {
   "cell_type": "markdown",
   "metadata": {},
   "source": [
    "Deleting a row (index) by using df.drop() method and axis=0"
   ]
  },
  {
   "cell_type": "code",
   "execution_count": 28,
   "metadata": {
    "ExecuteTime": {
     "end_time": "2023-09-01T06:34:44.892991Z",
     "start_time": "2023-09-01T06:34:44.871033Z"
    }
   },
   "outputs": [
    {
     "data": {
      "text/plain": "   PassengerId                                               Name     Sex  \\\n1            2  Cumings, Mrs. John Bradley (Florence Briggs Th...  female   \n2            3                             Heikkinen, Miss. Laina  female   \n3            4       Futrelle, Mrs. Jacques Heath (Lily May Peel)  female   \n4            5                           Allen, Mr. William Henry    male   \n5            6                                   Moran, Mr. James    male   \n\n    Age  Family  \n1  38.0       1  \n2  26.0       0  \n3  35.0       1  \n4  35.0       0  \n5   NaN       0  ",
      "text/html": "<div>\n<style scoped>\n    .dataframe tbody tr th:only-of-type {\n        vertical-align: middle;\n    }\n\n    .dataframe tbody tr th {\n        vertical-align: top;\n    }\n\n    .dataframe thead th {\n        text-align: right;\n    }\n</style>\n<table border=\"1\" class=\"dataframe\">\n  <thead>\n    <tr style=\"text-align: right;\">\n      <th></th>\n      <th>PassengerId</th>\n      <th>Name</th>\n      <th>Sex</th>\n      <th>Age</th>\n      <th>Family</th>\n    </tr>\n  </thead>\n  <tbody>\n    <tr>\n      <th>1</th>\n      <td>2</td>\n      <td>Cumings, Mrs. John Bradley (Florence Briggs Th...</td>\n      <td>female</td>\n      <td>38.0</td>\n      <td>1</td>\n    </tr>\n    <tr>\n      <th>2</th>\n      <td>3</td>\n      <td>Heikkinen, Miss. Laina</td>\n      <td>female</td>\n      <td>26.0</td>\n      <td>0</td>\n    </tr>\n    <tr>\n      <th>3</th>\n      <td>4</td>\n      <td>Futrelle, Mrs. Jacques Heath (Lily May Peel)</td>\n      <td>female</td>\n      <td>35.0</td>\n      <td>1</td>\n    </tr>\n    <tr>\n      <th>4</th>\n      <td>5</td>\n      <td>Allen, Mr. William Henry</td>\n      <td>male</td>\n      <td>35.0</td>\n      <td>0</td>\n    </tr>\n    <tr>\n      <th>5</th>\n      <td>6</td>\n      <td>Moran, Mr. James</td>\n      <td>male</td>\n      <td>NaN</td>\n      <td>0</td>\n    </tr>\n  </tbody>\n</table>\n</div>"
     },
     "execution_count": 28,
     "metadata": {},
     "output_type": "execute_result"
    }
   ],
   "source": [
    "titanic1 = titanic.drop(0, axis=0)\n",
    "titanic1.head()"
   ]
  },
  {
   "cell_type": "markdown",
   "metadata": {},
   "source": [
    "Updates can be performed **inplace** (without reasigning to a variable) by setting inplace=True"
   ]
  },
  {
   "cell_type": "code",
   "execution_count": 29,
   "metadata": {
    "ExecuteTime": {
     "end_time": "2023-09-01T06:34:45.579478Z",
     "start_time": "2023-09-01T06:34:45.559912Z"
    }
   },
   "outputs": [
    {
     "data": {
      "text/plain": "   PassengerId                                               Name     Sex  \\\n1            2  Cumings, Mrs. John Bradley (Florence Briggs Th...  female   \n2            3                             Heikkinen, Miss. Laina  female   \n3            4       Futrelle, Mrs. Jacques Heath (Lily May Peel)  female   \n4            5                           Allen, Mr. William Henry    male   \n5            6                                   Moran, Mr. James    male   \n\n    Age  Family  \n1  38.0       1  \n2  26.0       0  \n3  35.0       1  \n4  35.0       0  \n5   NaN       0  ",
      "text/html": "<div>\n<style scoped>\n    .dataframe tbody tr th:only-of-type {\n        vertical-align: middle;\n    }\n\n    .dataframe tbody tr th {\n        vertical-align: top;\n    }\n\n    .dataframe thead th {\n        text-align: right;\n    }\n</style>\n<table border=\"1\" class=\"dataframe\">\n  <thead>\n    <tr style=\"text-align: right;\">\n      <th></th>\n      <th>PassengerId</th>\n      <th>Name</th>\n      <th>Sex</th>\n      <th>Age</th>\n      <th>Family</th>\n    </tr>\n  </thead>\n  <tbody>\n    <tr>\n      <th>1</th>\n      <td>2</td>\n      <td>Cumings, Mrs. John Bradley (Florence Briggs Th...</td>\n      <td>female</td>\n      <td>38.0</td>\n      <td>1</td>\n    </tr>\n    <tr>\n      <th>2</th>\n      <td>3</td>\n      <td>Heikkinen, Miss. Laina</td>\n      <td>female</td>\n      <td>26.0</td>\n      <td>0</td>\n    </tr>\n    <tr>\n      <th>3</th>\n      <td>4</td>\n      <td>Futrelle, Mrs. Jacques Heath (Lily May Peel)</td>\n      <td>female</td>\n      <td>35.0</td>\n      <td>1</td>\n    </tr>\n    <tr>\n      <th>4</th>\n      <td>5</td>\n      <td>Allen, Mr. William Henry</td>\n      <td>male</td>\n      <td>35.0</td>\n      <td>0</td>\n    </tr>\n    <tr>\n      <th>5</th>\n      <td>6</td>\n      <td>Moran, Mr. James</td>\n      <td>male</td>\n      <td>NaN</td>\n      <td>0</td>\n    </tr>\n  </tbody>\n</table>\n</div>"
     },
     "execution_count": 29,
     "metadata": {},
     "output_type": "execute_result"
    }
   ],
   "source": [
    "titanic.drop(0, axis=0, inplace=True)\n",
    "titanic.head()"
   ]
  },
  {
   "cell_type": "markdown",
   "metadata": {},
   "source": [
    "<a id='dc4'></a>\n",
    "### 2.C.d Subset ([to top](top))\n",
    "Accessing an element in position (D,Y)"
   ]
  },
  {
   "cell_type": "code",
   "execution_count": 30,
   "metadata": {
    "ExecuteTime": {
     "end_time": "2023-09-01T06:34:46.276252Z",
     "start_time": "2023-09-01T06:34:46.253844Z"
    }
   },
   "outputs": [
    {
     "data": {
      "text/plain": "26.0"
     },
     "execution_count": 30,
     "metadata": {},
     "output_type": "execute_result"
    }
   ],
   "source": [
    "titanic.loc[2,'Age']"
   ]
  },
  {
   "cell_type": "markdown",
   "metadata": {},
   "source": [
    "Slicing by rows and columns at the same time"
   ]
  },
  {
   "cell_type": "code",
   "execution_count": 31,
   "metadata": {
    "ExecuteTime": {
     "end_time": "2023-09-01T06:34:47.130933Z",
     "start_time": "2023-09-01T06:34:47.112093Z"
    }
   },
   "outputs": [
    {
     "data": {
      "text/plain": "    Age     Sex\n2  26.0  female\n3  35.0  female",
      "text/html": "<div>\n<style scoped>\n    .dataframe tbody tr th:only-of-type {\n        vertical-align: middle;\n    }\n\n    .dataframe tbody tr th {\n        vertical-align: top;\n    }\n\n    .dataframe thead th {\n        text-align: right;\n    }\n</style>\n<table border=\"1\" class=\"dataframe\">\n  <thead>\n    <tr style=\"text-align: right;\">\n      <th></th>\n      <th>Age</th>\n      <th>Sex</th>\n    </tr>\n  </thead>\n  <tbody>\n    <tr>\n      <th>2</th>\n      <td>26.0</td>\n      <td>female</td>\n    </tr>\n    <tr>\n      <th>3</th>\n      <td>35.0</td>\n      <td>female</td>\n    </tr>\n  </tbody>\n</table>\n</div>"
     },
     "execution_count": 31,
     "metadata": {},
     "output_type": "execute_result"
    }
   ],
   "source": [
    "titanic.loc[[2, 3],['Age','Sex']]"
   ]
  },
  {
   "cell_type": "markdown",
   "metadata": {},
   "source": [
    "<a id='dc4'></a>\n",
    "### 2.C.e Conditional Selection ([to top](#top))\n",
    "Logical operators can be applied to DataFrame to perform filtering and selections"
   ]
  },
  {
   "cell_type": "markdown",
   "metadata": {},
   "source": [
    "**Example:** a boolean DataFrame where we are checking if the ages are greater than 20"
   ]
  },
  {
   "cell_type": "code",
   "execution_count": 89,
   "outputs": [
    {
     "data": {
      "text/plain": "1       True\n2       True\n3       True\n4       True\n5      False\n       ...  \n886     True\n887    False\n888    False\n889     True\n890     True\nName: Age, Length: 890, dtype: bool"
     },
     "execution_count": 89,
     "metadata": {},
     "output_type": "execute_result"
    }
   ],
   "source": [
    "titanic['Age'] > 20"
   ],
   "metadata": {
    "collapsed": false,
    "ExecuteTime": {
     "end_time": "2023-09-01T06:38:53.572587Z",
     "start_time": "2023-09-01T06:38:53.562712Z"
    }
   }
  },
  {
   "cell_type": "code",
   "execution_count": 88,
   "metadata": {
    "ExecuteTime": {
     "end_time": "2023-09-01T06:38:19.784675Z",
     "start_time": "2023-09-01T06:38:19.770569Z"
    }
   },
   "outputs": [
    {
     "data": {
      "text/plain": "   PassengerId                                               Name     Sex  \\\n1            2  Cumings, Mrs. John Bradley (Florence Briggs Th...  female   \n2            3                             Heikkinen, Miss. Laina  female   \n3            4       Futrelle, Mrs. Jacques Heath (Lily May Peel)  female   \n4            5                           Allen, Mr. William Henry    male   \n6            7                            McCarthy, Mr. Timothy J    male   \n\n    Age  Family  \n1  38.0       1  \n2  26.0       0  \n3  35.0       1  \n4  35.0       0  \n6  54.0       0  ",
      "text/html": "<div>\n<style scoped>\n    .dataframe tbody tr th:only-of-type {\n        vertical-align: middle;\n    }\n\n    .dataframe tbody tr th {\n        vertical-align: top;\n    }\n\n    .dataframe thead th {\n        text-align: right;\n    }\n</style>\n<table border=\"1\" class=\"dataframe\">\n  <thead>\n    <tr style=\"text-align: right;\">\n      <th></th>\n      <th>PassengerId</th>\n      <th>Name</th>\n      <th>Sex</th>\n      <th>Age</th>\n      <th>Family</th>\n    </tr>\n  </thead>\n  <tbody>\n    <tr>\n      <th>1</th>\n      <td>2</td>\n      <td>Cumings, Mrs. John Bradley (Florence Briggs Th...</td>\n      <td>female</td>\n      <td>38.0</td>\n      <td>1</td>\n    </tr>\n    <tr>\n      <th>2</th>\n      <td>3</td>\n      <td>Heikkinen, Miss. Laina</td>\n      <td>female</td>\n      <td>26.0</td>\n      <td>0</td>\n    </tr>\n    <tr>\n      <th>3</th>\n      <td>4</td>\n      <td>Futrelle, Mrs. Jacques Heath (Lily May Peel)</td>\n      <td>female</td>\n      <td>35.0</td>\n      <td>1</td>\n    </tr>\n    <tr>\n      <th>4</th>\n      <td>5</td>\n      <td>Allen, Mr. William Henry</td>\n      <td>male</td>\n      <td>35.0</td>\n      <td>0</td>\n    </tr>\n    <tr>\n      <th>6</th>\n      <td>7</td>\n      <td>McCarthy, Mr. Timothy J</td>\n      <td>male</td>\n      <td>54.0</td>\n      <td>0</td>\n    </tr>\n  </tbody>\n</table>\n</div>"
     },
     "execution_count": 88,
     "metadata": {},
     "output_type": "execute_result"
    }
   ],
   "source": [
    "rslt_df = titanic[titanic['Age'] > 20]\n",
    "rslt_df.head()"
   ]
  },
  {
   "cell_type": "markdown",
   "metadata": {},
   "source": [
    "#### Conditionally subset a DataFrame with Boolean series\n",
    "Let's define a DataFrame describing individuals measurements"
   ]
  },
  {
   "cell_type": "markdown",
   "metadata": {},
   "source": [
    "We can filter it easily by specifying a condition on the cell values"
   ]
  },
  {
   "cell_type": "code",
   "execution_count": 34,
   "metadata": {
    "ExecuteTime": {
     "end_time": "2023-09-01T06:35:04.999467Z",
     "start_time": "2023-09-01T06:35:04.981483Z"
    }
   },
   "outputs": [
    {
     "data": {
      "text/plain": "    PassengerId                                               Name     Sex  \\\n1             2  Cumings, Mrs. John Bradley (Florence Briggs Th...  female   \n6             7                            McCarthy, Mr. Timothy J    male   \n11           12                           Bonnell, Miss. Elizabeth  female   \n13           14                        Andersson, Mr. Anders Johan    male   \n15           16                   Hewlett, Mrs. (Mary D Kingcome)   female   \n\n     Age  Family  \n1   38.0       1  \n6   54.0       0  \n11  58.0       0  \n13  39.0       6  \n15  55.0       0  ",
      "text/html": "<div>\n<style scoped>\n    .dataframe tbody tr th:only-of-type {\n        vertical-align: middle;\n    }\n\n    .dataframe tbody tr th {\n        vertical-align: top;\n    }\n\n    .dataframe thead th {\n        text-align: right;\n    }\n</style>\n<table border=\"1\" class=\"dataframe\">\n  <thead>\n    <tr style=\"text-align: right;\">\n      <th></th>\n      <th>PassengerId</th>\n      <th>Name</th>\n      <th>Sex</th>\n      <th>Age</th>\n      <th>Family</th>\n    </tr>\n  </thead>\n  <tbody>\n    <tr>\n      <th>1</th>\n      <td>2</td>\n      <td>Cumings, Mrs. John Bradley (Florence Briggs Th...</td>\n      <td>female</td>\n      <td>38.0</td>\n      <td>1</td>\n    </tr>\n    <tr>\n      <th>6</th>\n      <td>7</td>\n      <td>McCarthy, Mr. Timothy J</td>\n      <td>male</td>\n      <td>54.0</td>\n      <td>0</td>\n    </tr>\n    <tr>\n      <th>11</th>\n      <td>12</td>\n      <td>Bonnell, Miss. Elizabeth</td>\n      <td>female</td>\n      <td>58.0</td>\n      <td>0</td>\n    </tr>\n    <tr>\n      <th>13</th>\n      <td>14</td>\n      <td>Andersson, Mr. Anders Johan</td>\n      <td>male</td>\n      <td>39.0</td>\n      <td>6</td>\n    </tr>\n    <tr>\n      <th>15</th>\n      <td>16</td>\n      <td>Hewlett, Mrs. (Mary D Kingcome)</td>\n      <td>female</td>\n      <td>55.0</td>\n      <td>0</td>\n    </tr>\n  </tbody>\n</table>\n</div>"
     },
     "execution_count": 34,
     "metadata": {},
     "output_type": "execute_result"
    }
   ],
   "source": [
    "titanic[titanic['Age']>35].head()"
   ]
  },
  {
   "cell_type": "markdown",
   "metadata": {},
   "source": [
    "Multiple conditions can be stacked together using boolean operators"
   ]
  },
  {
   "cell_type": "code",
   "execution_count": 35,
   "metadata": {
    "ExecuteTime": {
     "end_time": "2023-09-01T06:35:05.993655Z",
     "start_time": "2023-09-01T06:35:05.983424Z"
    }
   },
   "outputs": [],
   "source": [
    "booldf1 = titanic['Age']>35\n",
    "booldf2 = titanic['Family']>2"
   ]
  },
  {
   "cell_type": "code",
   "execution_count": 36,
   "metadata": {
    "ExecuteTime": {
     "end_time": "2023-09-01T06:35:06.413892Z",
     "start_time": "2023-09-01T06:35:06.403196Z"
    }
   },
   "outputs": [
    {
     "data": {
      "text/plain": "1      False\n2      False\n3      False\n4      False\n5      False\n       ...  \n886    False\n887    False\n888     True\n889    False\n890    False\nName: Family, Length: 890, dtype: bool"
     },
     "execution_count": 36,
     "metadata": {},
     "output_type": "execute_result"
    }
   ],
   "source": [
    "booldf2"
   ]
  },
  {
   "cell_type": "code",
   "execution_count": 37,
   "metadata": {
    "ExecuteTime": {
     "end_time": "2023-09-01T06:35:06.836598Z",
     "start_time": "2023-09-01T06:35:06.790749Z"
    }
   },
   "outputs": [
    {
     "data": {
      "text/plain": "     PassengerId                                               Name     Sex  \\\n13            14                        Andersson, Mr. Anders Johan    male   \n25            26  Asplund, Mrs. Carl Oscar (Selma Augusta Emilia...  female   \n167          168    Skoog, Mrs. William (Anna Bernhardina Karlsson)  female   \n360          361                                 Skoog, Mr. Wilhelm    male   \n390          391                         Carter, Mr. William Ernest    male   \n\n      Age  Family  \n13   39.0       6  \n25   38.0       6  \n167  45.0       5  \n360  40.0       5  \n390  36.0       3  ",
      "text/html": "<div>\n<style scoped>\n    .dataframe tbody tr th:only-of-type {\n        vertical-align: middle;\n    }\n\n    .dataframe tbody tr th {\n        vertical-align: top;\n    }\n\n    .dataframe thead th {\n        text-align: right;\n    }\n</style>\n<table border=\"1\" class=\"dataframe\">\n  <thead>\n    <tr style=\"text-align: right;\">\n      <th></th>\n      <th>PassengerId</th>\n      <th>Name</th>\n      <th>Sex</th>\n      <th>Age</th>\n      <th>Family</th>\n    </tr>\n  </thead>\n  <tbody>\n    <tr>\n      <th>13</th>\n      <td>14</td>\n      <td>Andersson, Mr. Anders Johan</td>\n      <td>male</td>\n      <td>39.0</td>\n      <td>6</td>\n    </tr>\n    <tr>\n      <th>25</th>\n      <td>26</td>\n      <td>Asplund, Mrs. Carl Oscar (Selma Augusta Emilia...</td>\n      <td>female</td>\n      <td>38.0</td>\n      <td>6</td>\n    </tr>\n    <tr>\n      <th>167</th>\n      <td>168</td>\n      <td>Skoog, Mrs. William (Anna Bernhardina Karlsson)</td>\n      <td>female</td>\n      <td>45.0</td>\n      <td>5</td>\n    </tr>\n    <tr>\n      <th>360</th>\n      <td>361</td>\n      <td>Skoog, Mr. Wilhelm</td>\n      <td>male</td>\n      <td>40.0</td>\n      <td>5</td>\n    </tr>\n    <tr>\n      <th>390</th>\n      <td>391</td>\n      <td>Carter, Mr. William Ernest</td>\n      <td>male</td>\n      <td>36.0</td>\n      <td>3</td>\n    </tr>\n  </tbody>\n</table>\n</div>"
     },
     "execution_count": 37,
     "metadata": {},
     "output_type": "execute_result"
    }
   ],
   "source": [
    "titanic[(booldf1) & (booldf2)].head()"
   ]
  },
  {
   "cell_type": "markdown",
   "metadata": {},
   "source": [
    "Filtering results can be subsetted as usual selecting rows/columns"
   ]
  },
  {
   "cell_type": "code",
   "execution_count": 38,
   "metadata": {
    "ExecuteTime": {
     "end_time": "2023-09-01T06:35:07.867396Z",
     "start_time": "2023-09-01T06:35:07.842913Z"
    }
   },
   "outputs": [
    {
     "data": {
      "text/plain": "     Age     Sex\n1   38.0  female\n6   54.0    male\n11  58.0  female\n13  39.0    male\n15  55.0  female",
      "text/html": "<div>\n<style scoped>\n    .dataframe tbody tr th:only-of-type {\n        vertical-align: middle;\n    }\n\n    .dataframe tbody tr th {\n        vertical-align: top;\n    }\n\n    .dataframe thead th {\n        text-align: right;\n    }\n</style>\n<table border=\"1\" class=\"dataframe\">\n  <thead>\n    <tr style=\"text-align: right;\">\n      <th></th>\n      <th>Age</th>\n      <th>Sex</th>\n    </tr>\n  </thead>\n  <tbody>\n    <tr>\n      <th>1</th>\n      <td>38.0</td>\n      <td>female</td>\n    </tr>\n    <tr>\n      <th>6</th>\n      <td>54.0</td>\n      <td>male</td>\n    </tr>\n    <tr>\n      <th>11</th>\n      <td>58.0</td>\n      <td>female</td>\n    </tr>\n    <tr>\n      <th>13</th>\n      <td>39.0</td>\n      <td>male</td>\n    </tr>\n    <tr>\n      <th>15</th>\n      <td>55.0</td>\n      <td>female</td>\n    </tr>\n  </tbody>\n</table>\n</div>"
     },
     "execution_count": 38,
     "metadata": {},
     "output_type": "execute_result"
    }
   ],
   "source": [
    "titanic[booldf1][['Age','Sex']].head()"
   ]
  },
  {
   "cell_type": "markdown",
   "metadata": {},
   "source": [
    "<a id='dc5'></a>\n",
    "### 2.C.f Re-setting and Setting Index ([to top](#top))\n",
    "In the previuos example we specified an index. <br/>\n",
    "We can destroy such index (making it a simple column of the DataFrame) easily"
   ]
  },
  {
   "cell_type": "code",
   "execution_count": 39,
   "metadata": {
    "ExecuteTime": {
     "end_time": "2023-09-01T06:35:08.792085Z",
     "start_time": "2023-09-01T06:35:08.773835Z"
    }
   },
   "outputs": [
    {
     "data": {
      "text/plain": "   index  PassengerId                                               Name  \\\n0      1            2  Cumings, Mrs. John Bradley (Florence Briggs Th...   \n1      2            3                             Heikkinen, Miss. Laina   \n2      3            4       Futrelle, Mrs. Jacques Heath (Lily May Peel)   \n3      4            5                           Allen, Mr. William Henry   \n4      5            6                                   Moran, Mr. James   \n\n      Sex   Age  Family  \n0  female  38.0       1  \n1  female  26.0       0  \n2  female  35.0       1  \n3    male  35.0       0  \n4    male   NaN       0  ",
      "text/html": "<div>\n<style scoped>\n    .dataframe tbody tr th:only-of-type {\n        vertical-align: middle;\n    }\n\n    .dataframe tbody tr th {\n        vertical-align: top;\n    }\n\n    .dataframe thead th {\n        text-align: right;\n    }\n</style>\n<table border=\"1\" class=\"dataframe\">\n  <thead>\n    <tr style=\"text-align: right;\">\n      <th></th>\n      <th>index</th>\n      <th>PassengerId</th>\n      <th>Name</th>\n      <th>Sex</th>\n      <th>Age</th>\n      <th>Family</th>\n    </tr>\n  </thead>\n  <tbody>\n    <tr>\n      <th>0</th>\n      <td>1</td>\n      <td>2</td>\n      <td>Cumings, Mrs. John Bradley (Florence Briggs Th...</td>\n      <td>female</td>\n      <td>38.0</td>\n      <td>1</td>\n    </tr>\n    <tr>\n      <th>1</th>\n      <td>2</td>\n      <td>3</td>\n      <td>Heikkinen, Miss. Laina</td>\n      <td>female</td>\n      <td>26.0</td>\n      <td>0</td>\n    </tr>\n    <tr>\n      <th>2</th>\n      <td>3</td>\n      <td>4</td>\n      <td>Futrelle, Mrs. Jacques Heath (Lily May Peel)</td>\n      <td>female</td>\n      <td>35.0</td>\n      <td>1</td>\n    </tr>\n    <tr>\n      <th>3</th>\n      <td>4</td>\n      <td>5</td>\n      <td>Allen, Mr. William Henry</td>\n      <td>male</td>\n      <td>35.0</td>\n      <td>0</td>\n    </tr>\n    <tr>\n      <th>4</th>\n      <td>5</td>\n      <td>6</td>\n      <td>Moran, Mr. James</td>\n      <td>male</td>\n      <td>NaN</td>\n      <td>0</td>\n    </tr>\n  </tbody>\n</table>\n</div>"
     },
     "execution_count": 39,
     "metadata": {},
     "output_type": "execute_result"
    }
   ],
   "source": [
    "titanic.reset_index().head()"
   ]
  },
  {
   "cell_type": "markdown",
   "metadata": {},
   "source": [
    "Conversely, if we do not need such additional column we can drop it contextually"
   ]
  },
  {
   "cell_type": "code",
   "execution_count": 40,
   "metadata": {
    "ExecuteTime": {
     "end_time": "2023-09-01T06:35:09.809436Z",
     "start_time": "2023-09-01T06:35:09.787641Z"
    }
   },
   "outputs": [
    {
     "data": {
      "text/plain": "   PassengerId                                               Name     Sex  \\\n0            2  Cumings, Mrs. John Bradley (Florence Briggs Th...  female   \n1            3                             Heikkinen, Miss. Laina  female   \n2            4       Futrelle, Mrs. Jacques Heath (Lily May Peel)  female   \n3            5                           Allen, Mr. William Henry    male   \n4            6                                   Moran, Mr. James    male   \n\n    Age  Family  \n0  38.0       1  \n1  26.0       0  \n2  35.0       1  \n3  35.0       0  \n4   NaN       0  ",
      "text/html": "<div>\n<style scoped>\n    .dataframe tbody tr th:only-of-type {\n        vertical-align: middle;\n    }\n\n    .dataframe tbody tr th {\n        vertical-align: top;\n    }\n\n    .dataframe thead th {\n        text-align: right;\n    }\n</style>\n<table border=\"1\" class=\"dataframe\">\n  <thead>\n    <tr style=\"text-align: right;\">\n      <th></th>\n      <th>PassengerId</th>\n      <th>Name</th>\n      <th>Sex</th>\n      <th>Age</th>\n      <th>Family</th>\n    </tr>\n  </thead>\n  <tbody>\n    <tr>\n      <th>0</th>\n      <td>2</td>\n      <td>Cumings, Mrs. John Bradley (Florence Briggs Th...</td>\n      <td>female</td>\n      <td>38.0</td>\n      <td>1</td>\n    </tr>\n    <tr>\n      <th>1</th>\n      <td>3</td>\n      <td>Heikkinen, Miss. Laina</td>\n      <td>female</td>\n      <td>26.0</td>\n      <td>0</td>\n    </tr>\n    <tr>\n      <th>2</th>\n      <td>4</td>\n      <td>Futrelle, Mrs. Jacques Heath (Lily May Peel)</td>\n      <td>female</td>\n      <td>35.0</td>\n      <td>1</td>\n    </tr>\n    <tr>\n      <th>3</th>\n      <td>5</td>\n      <td>Allen, Mr. William Henry</td>\n      <td>male</td>\n      <td>35.0</td>\n      <td>0</td>\n    </tr>\n    <tr>\n      <th>4</th>\n      <td>6</td>\n      <td>Moran, Mr. James</td>\n      <td>male</td>\n      <td>NaN</td>\n      <td>0</td>\n    </tr>\n  </tbody>\n</table>\n</div>"
     },
     "execution_count": 40,
     "metadata": {},
     "output_type": "execute_result"
    }
   ],
   "source": [
    "titanic.reset_index(drop=True).head()"
   ]
  },
  {
   "cell_type": "markdown",
   "metadata": {},
   "source": [
    "Now we can add a new column and set it as new index"
   ]
  },
  {
   "cell_type": "code",
   "execution_count": 41,
   "metadata": {
    "ExecuteTime": {
     "end_time": "2023-09-01T06:35:10.793219Z",
     "start_time": "2023-09-01T06:35:10.774191Z"
    }
   },
   "outputs": [
    {
     "data": {
      "text/plain": "                                                    PassengerId     Sex   Age  \\\nName                                                                            \nCumings, Mrs. John Bradley (Florence Briggs Tha...            2  female  38.0   \nHeikkinen, Miss. Laina                                        3  female  26.0   \nFutrelle, Mrs. Jacques Heath (Lily May Peel)                  4  female  35.0   \nAllen, Mr. William Henry                                      5    male  35.0   \nMoran, Mr. James                                              6    male   NaN   \n\n                                                    Family  \nName                                                        \nCumings, Mrs. John Bradley (Florence Briggs Tha...       1  \nHeikkinen, Miss. Laina                                   0  \nFutrelle, Mrs. Jacques Heath (Lily May Peel)             1  \nAllen, Mr. William Henry                                 0  \nMoran, Mr. James                                         0  ",
      "text/html": "<div>\n<style scoped>\n    .dataframe tbody tr th:only-of-type {\n        vertical-align: middle;\n    }\n\n    .dataframe tbody tr th {\n        vertical-align: top;\n    }\n\n    .dataframe thead th {\n        text-align: right;\n    }\n</style>\n<table border=\"1\" class=\"dataframe\">\n  <thead>\n    <tr style=\"text-align: right;\">\n      <th></th>\n      <th>PassengerId</th>\n      <th>Sex</th>\n      <th>Age</th>\n      <th>Family</th>\n    </tr>\n    <tr>\n      <th>Name</th>\n      <th></th>\n      <th></th>\n      <th></th>\n      <th></th>\n    </tr>\n  </thead>\n  <tbody>\n    <tr>\n      <th>Cumings, Mrs. John Bradley (Florence Briggs Thayer)</th>\n      <td>2</td>\n      <td>female</td>\n      <td>38.0</td>\n      <td>1</td>\n    </tr>\n    <tr>\n      <th>Heikkinen, Miss. Laina</th>\n      <td>3</td>\n      <td>female</td>\n      <td>26.0</td>\n      <td>0</td>\n    </tr>\n    <tr>\n      <th>Futrelle, Mrs. Jacques Heath (Lily May Peel)</th>\n      <td>4</td>\n      <td>female</td>\n      <td>35.0</td>\n      <td>1</td>\n    </tr>\n    <tr>\n      <th>Allen, Mr. William Henry</th>\n      <td>5</td>\n      <td>male</td>\n      <td>35.0</td>\n      <td>0</td>\n    </tr>\n    <tr>\n      <th>Moran, Mr. James</th>\n      <td>6</td>\n      <td>male</td>\n      <td>NaN</td>\n      <td>0</td>\n    </tr>\n  </tbody>\n</table>\n</div>"
     },
     "execution_count": 41,
     "metadata": {},
     "output_type": "execute_result"
    }
   ],
   "source": [
    "titanic.set_index('Name').head()"
   ]
  },
  {
   "cell_type": "markdown",
   "metadata": {},
   "source": [
    "<a id='dc5'></a>\n",
    "### 2.C.g Multi-indexing ([to top](#top))\n",
    "DataFrame indexes can have multiple levels <br/>\n",
    "We can define a two level index as follows:"
   ]
  },
  {
   "cell_type": "code",
   "execution_count": 42,
   "metadata": {
    "ExecuteTime": {
     "end_time": "2023-09-01T06:35:11.617612Z",
     "start_time": "2023-09-01T06:35:11.610294Z"
    }
   },
   "outputs": [
    {
     "data": {
      "text/plain": "                                                Name  Family   Age\n1  Cumings, Mrs. John Bradley (Florence Briggs Th...       1  38.0\n2                             Heikkinen, Miss. Laina       0  26.0\n3       Futrelle, Mrs. Jacques Heath (Lily May Peel)       1  35.0\n4                           Allen, Mr. William Henry       0  35.0\n5                                   Moran, Mr. James       0   NaN",
      "text/html": "<div>\n<style scoped>\n    .dataframe tbody tr th:only-of-type {\n        vertical-align: middle;\n    }\n\n    .dataframe tbody tr th {\n        vertical-align: top;\n    }\n\n    .dataframe thead th {\n        text-align: right;\n    }\n</style>\n<table border=\"1\" class=\"dataframe\">\n  <thead>\n    <tr style=\"text-align: right;\">\n      <th></th>\n      <th>Name</th>\n      <th>Family</th>\n      <th>Age</th>\n    </tr>\n  </thead>\n  <tbody>\n    <tr>\n      <th>1</th>\n      <td>Cumings, Mrs. John Bradley (Florence Briggs Th...</td>\n      <td>1</td>\n      <td>38.0</td>\n    </tr>\n    <tr>\n      <th>2</th>\n      <td>Heikkinen, Miss. Laina</td>\n      <td>0</td>\n      <td>26.0</td>\n    </tr>\n    <tr>\n      <th>3</th>\n      <td>Futrelle, Mrs. Jacques Heath (Lily May Peel)</td>\n      <td>1</td>\n      <td>35.0</td>\n    </tr>\n    <tr>\n      <th>4</th>\n      <td>Allen, Mr. William Henry</td>\n      <td>0</td>\n      <td>35.0</td>\n    </tr>\n    <tr>\n      <th>5</th>\n      <td>Moran, Mr. James</td>\n      <td>0</td>\n      <td>NaN</td>\n    </tr>\n  </tbody>\n</table>\n</div>"
     },
     "execution_count": 42,
     "metadata": {},
     "output_type": "execute_result"
    }
   ],
   "source": [
    "t2 = titanic[['Name', 'Family', 'Age']]\n",
    "t2.head()"
   ]
  },
  {
   "cell_type": "code",
   "execution_count": 43,
   "metadata": {
    "ExecuteTime": {
     "end_time": "2023-09-01T06:35:12.088621Z",
     "start_time": "2023-09-01T06:35:12.067950Z"
    }
   },
   "outputs": [],
   "source": [
    "t2.set_index(['Family', 'Age'], inplace=True)"
   ]
  },
  {
   "cell_type": "markdown",
   "metadata": {},
   "source": [
    "For sake of clarity we can rename the indexes as follows"
   ]
  },
  {
   "cell_type": "code",
   "execution_count": 44,
   "metadata": {
    "ExecuteTime": {
     "end_time": "2023-09-01T06:35:13.040841Z",
     "start_time": "2023-09-01T06:35:13.022490Z"
    }
   },
   "outputs": [
    {
     "data": {
      "text/plain": "                                                          Name\nOuter Inner                                                   \n1     38.0   Cumings, Mrs. John Bradley (Florence Briggs Th...\n0     26.0                              Heikkinen, Miss. Laina\n1     35.0        Futrelle, Mrs. Jacques Heath (Lily May Peel)\n0     35.0                            Allen, Mr. William Henry\n      NaN                                     Moran, Mr. James",
      "text/html": "<div>\n<style scoped>\n    .dataframe tbody tr th:only-of-type {\n        vertical-align: middle;\n    }\n\n    .dataframe tbody tr th {\n        vertical-align: top;\n    }\n\n    .dataframe thead th {\n        text-align: right;\n    }\n</style>\n<table border=\"1\" class=\"dataframe\">\n  <thead>\n    <tr style=\"text-align: right;\">\n      <th></th>\n      <th></th>\n      <th>Name</th>\n    </tr>\n    <tr>\n      <th>Outer</th>\n      <th>Inner</th>\n      <th></th>\n    </tr>\n  </thead>\n  <tbody>\n    <tr>\n      <th>1</th>\n      <th>38.0</th>\n      <td>Cumings, Mrs. John Bradley (Florence Briggs Th...</td>\n    </tr>\n    <tr>\n      <th>0</th>\n      <th>26.0</th>\n      <td>Heikkinen, Miss. Laina</td>\n    </tr>\n    <tr>\n      <th>1</th>\n      <th>35.0</th>\n      <td>Futrelle, Mrs. Jacques Heath (Lily May Peel)</td>\n    </tr>\n    <tr>\n      <th rowspan=\"2\" valign=\"top\">0</th>\n      <th>35.0</th>\n      <td>Allen, Mr. William Henry</td>\n    </tr>\n    <tr>\n      <th>NaN</th>\n      <td>Moran, Mr. James</td>\n    </tr>\n  </tbody>\n</table>\n</div>"
     },
     "execution_count": 44,
     "metadata": {},
     "output_type": "execute_result"
    }
   ],
   "source": [
    "t2.index.names=['Outer', 'Inner']\n",
    "t2.head()"
   ]
  },
  {
   "cell_type": "markdown",
   "metadata": {},
   "source": [
    "Subsetting now becomes trikier, but the syntax remains the same. <br/>\n",
    "We can select the subset (38.0)(Name) of Outer=1 by using the *loc* function twice"
   ]
  },
  {
   "cell_type": "code",
   "execution_count": 45,
   "metadata": {
    "ExecuteTime": {
     "end_time": "2023-09-01T06:35:14.038181Z",
     "start_time": "2023-09-01T06:35:14.017544Z"
    }
   },
   "outputs": [
    {
     "data": {
      "text/plain": "                                                    Name\nInner                                                   \n38.0   Cumings, Mrs. John Bradley (Florence Briggs Th...\n38.0                        Hoyt, Mr. Frederick Maxfield\n38.0                           Graham, Mr. George Edward",
      "text/html": "<div>\n<style scoped>\n    .dataframe tbody tr th:only-of-type {\n        vertical-align: middle;\n    }\n\n    .dataframe tbody tr th {\n        vertical-align: top;\n    }\n\n    .dataframe thead th {\n        text-align: right;\n    }\n</style>\n<table border=\"1\" class=\"dataframe\">\n  <thead>\n    <tr style=\"text-align: right;\">\n      <th></th>\n      <th>Name</th>\n    </tr>\n    <tr>\n      <th>Inner</th>\n      <th></th>\n    </tr>\n  </thead>\n  <tbody>\n    <tr>\n      <th>38.0</th>\n      <td>Cumings, Mrs. John Bradley (Florence Briggs Th...</td>\n    </tr>\n    <tr>\n      <th>38.0</th>\n      <td>Hoyt, Mr. Frederick Maxfield</td>\n    </tr>\n    <tr>\n      <th>38.0</th>\n      <td>Graham, Mr. George Edward</td>\n    </tr>\n  </tbody>\n</table>\n</div>"
     },
     "execution_count": 45,
     "metadata": {},
     "output_type": "execute_result"
    }
   ],
   "source": [
    "t2.loc[1].loc[[38.0]][['Name']]"
   ]
  },
  {
   "cell_type": "markdown",
   "metadata": {},
   "source": [
    "<a id='de'></a>\n",
    "## 3. Data Transformation ([to top](#top))\n",
    "Data stored in a DataFrame can be transformed applying several functions."
   ]
  },
  {
   "cell_type": "markdown",
   "metadata": {},
   "source": [
    "<a id='de1'></a>\n",
    "### 3.A Missing Values ([to top](#top))\n",
    "In presence of missing values different policies can be selected"
   ]
  },
  {
   "cell_type": "markdown",
   "metadata": {},
   "source": [
    "#### Dropping any rows with a NaN value"
   ]
  },
  {
   "cell_type": "code",
   "execution_count": 46,
   "metadata": {
    "ExecuteTime": {
     "end_time": "2023-09-01T06:35:16.620974Z",
     "start_time": "2023-09-01T06:35:16.594568Z"
    }
   },
   "outputs": [
    {
     "data": {
      "text/plain": "   PassengerId                                               Name     Sex  \\\n1            2  Cumings, Mrs. John Bradley (Florence Briggs Th...  female   \n2            3                             Heikkinen, Miss. Laina  female   \n3            4       Futrelle, Mrs. Jacques Heath (Lily May Peel)  female   \n4            5                           Allen, Mr. William Henry    male   \n6            7                            McCarthy, Mr. Timothy J    male   \n\n    Age  Family  \n1  38.0       1  \n2  26.0       0  \n3  35.0       1  \n4  35.0       0  \n6  54.0       0  ",
      "text/html": "<div>\n<style scoped>\n    .dataframe tbody tr th:only-of-type {\n        vertical-align: middle;\n    }\n\n    .dataframe tbody tr th {\n        vertical-align: top;\n    }\n\n    .dataframe thead th {\n        text-align: right;\n    }\n</style>\n<table border=\"1\" class=\"dataframe\">\n  <thead>\n    <tr style=\"text-align: right;\">\n      <th></th>\n      <th>PassengerId</th>\n      <th>Name</th>\n      <th>Sex</th>\n      <th>Age</th>\n      <th>Family</th>\n    </tr>\n  </thead>\n  <tbody>\n    <tr>\n      <th>1</th>\n      <td>2</td>\n      <td>Cumings, Mrs. John Bradley (Florence Briggs Th...</td>\n      <td>female</td>\n      <td>38.0</td>\n      <td>1</td>\n    </tr>\n    <tr>\n      <th>2</th>\n      <td>3</td>\n      <td>Heikkinen, Miss. Laina</td>\n      <td>female</td>\n      <td>26.0</td>\n      <td>0</td>\n    </tr>\n    <tr>\n      <th>3</th>\n      <td>4</td>\n      <td>Futrelle, Mrs. Jacques Heath (Lily May Peel)</td>\n      <td>female</td>\n      <td>35.0</td>\n      <td>1</td>\n    </tr>\n    <tr>\n      <th>4</th>\n      <td>5</td>\n      <td>Allen, Mr. William Henry</td>\n      <td>male</td>\n      <td>35.0</td>\n      <td>0</td>\n    </tr>\n    <tr>\n      <th>6</th>\n      <td>7</td>\n      <td>McCarthy, Mr. Timothy J</td>\n      <td>male</td>\n      <td>54.0</td>\n      <td>0</td>\n    </tr>\n  </tbody>\n</table>\n</div>"
     },
     "execution_count": 46,
     "metadata": {},
     "output_type": "execute_result"
    }
   ],
   "source": [
    "titanic.dropna(axis=0).head()"
   ]
  },
  {
   "cell_type": "markdown",
   "metadata": {},
   "source": [
    "#### Dropping any columns with NaN value"
   ]
  },
  {
   "cell_type": "code",
   "execution_count": 47,
   "metadata": {
    "ExecuteTime": {
     "end_time": "2023-09-01T06:35:17.560957Z",
     "start_time": "2023-09-01T06:35:17.543252Z"
    }
   },
   "outputs": [
    {
     "data": {
      "text/plain": "   PassengerId                                               Name     Sex  \\\n1            2  Cumings, Mrs. John Bradley (Florence Briggs Th...  female   \n2            3                             Heikkinen, Miss. Laina  female   \n3            4       Futrelle, Mrs. Jacques Heath (Lily May Peel)  female   \n4            5                           Allen, Mr. William Henry    male   \n5            6                                   Moran, Mr. James    male   \n\n   Family  \n1       1  \n2       0  \n3       1  \n4       0  \n5       0  ",
      "text/html": "<div>\n<style scoped>\n    .dataframe tbody tr th:only-of-type {\n        vertical-align: middle;\n    }\n\n    .dataframe tbody tr th {\n        vertical-align: top;\n    }\n\n    .dataframe thead th {\n        text-align: right;\n    }\n</style>\n<table border=\"1\" class=\"dataframe\">\n  <thead>\n    <tr style=\"text-align: right;\">\n      <th></th>\n      <th>PassengerId</th>\n      <th>Name</th>\n      <th>Sex</th>\n      <th>Family</th>\n    </tr>\n  </thead>\n  <tbody>\n    <tr>\n      <th>1</th>\n      <td>2</td>\n      <td>Cumings, Mrs. John Bradley (Florence Briggs Th...</td>\n      <td>female</td>\n      <td>1</td>\n    </tr>\n    <tr>\n      <th>2</th>\n      <td>3</td>\n      <td>Heikkinen, Miss. Laina</td>\n      <td>female</td>\n      <td>0</td>\n    </tr>\n    <tr>\n      <th>3</th>\n      <td>4</td>\n      <td>Futrelle, Mrs. Jacques Heath (Lily May Peel)</td>\n      <td>female</td>\n      <td>1</td>\n    </tr>\n    <tr>\n      <th>4</th>\n      <td>5</td>\n      <td>Allen, Mr. William Henry</td>\n      <td>male</td>\n      <td>0</td>\n    </tr>\n    <tr>\n      <th>5</th>\n      <td>6</td>\n      <td>Moran, Mr. James</td>\n      <td>male</td>\n      <td>0</td>\n    </tr>\n  </tbody>\n</table>\n</div>"
     },
     "execution_count": 47,
     "metadata": {},
     "output_type": "execute_result"
    }
   ],
   "source": [
    "titanic.dropna(axis=1).head()"
   ]
  },
  {
   "cell_type": "markdown",
   "metadata": {},
   "source": [
    "#### Thresholding: dropping a row with a minimum 5 NaN"
   ]
  },
  {
   "cell_type": "code",
   "execution_count": 48,
   "metadata": {
    "ExecuteTime": {
     "end_time": "2023-09-01T06:35:18.283949Z",
     "start_time": "2023-09-01T06:35:18.260059Z"
    }
   },
   "outputs": [
    {
     "data": {
      "text/plain": "   PassengerId                                               Name     Sex  \\\n1            2  Cumings, Mrs. John Bradley (Florence Briggs Th...  female   \n2            3                             Heikkinen, Miss. Laina  female   \n3            4       Futrelle, Mrs. Jacques Heath (Lily May Peel)  female   \n4            5                           Allen, Mr. William Henry    male   \n6            7                            McCarthy, Mr. Timothy J    male   \n\n    Age  Family  \n1  38.0       1  \n2  26.0       0  \n3  35.0       1  \n4  35.0       0  \n6  54.0       0  ",
      "text/html": "<div>\n<style scoped>\n    .dataframe tbody tr th:only-of-type {\n        vertical-align: middle;\n    }\n\n    .dataframe tbody tr th {\n        vertical-align: top;\n    }\n\n    .dataframe thead th {\n        text-align: right;\n    }\n</style>\n<table border=\"1\" class=\"dataframe\">\n  <thead>\n    <tr style=\"text-align: right;\">\n      <th></th>\n      <th>PassengerId</th>\n      <th>Name</th>\n      <th>Sex</th>\n      <th>Age</th>\n      <th>Family</th>\n    </tr>\n  </thead>\n  <tbody>\n    <tr>\n      <th>1</th>\n      <td>2</td>\n      <td>Cumings, Mrs. John Bradley (Florence Briggs Th...</td>\n      <td>female</td>\n      <td>38.0</td>\n      <td>1</td>\n    </tr>\n    <tr>\n      <th>2</th>\n      <td>3</td>\n      <td>Heikkinen, Miss. Laina</td>\n      <td>female</td>\n      <td>26.0</td>\n      <td>0</td>\n    </tr>\n    <tr>\n      <th>3</th>\n      <td>4</td>\n      <td>Futrelle, Mrs. Jacques Heath (Lily May Peel)</td>\n      <td>female</td>\n      <td>35.0</td>\n      <td>1</td>\n    </tr>\n    <tr>\n      <th>4</th>\n      <td>5</td>\n      <td>Allen, Mr. William Henry</td>\n      <td>male</td>\n      <td>35.0</td>\n      <td>0</td>\n    </tr>\n    <tr>\n      <th>6</th>\n      <td>7</td>\n      <td>McCarthy, Mr. Timothy J</td>\n      <td>male</td>\n      <td>54.0</td>\n      <td>0</td>\n    </tr>\n  </tbody>\n</table>\n</div>"
     },
     "execution_count": 48,
     "metadata": {},
     "output_type": "execute_result"
    }
   ],
   "source": [
    "titanic.dropna(axis=0, thresh=5).head()"
   ]
  },
  {
   "cell_type": "markdown",
   "metadata": {},
   "source": [
    "#### Filling values with a default value"
   ]
  },
  {
   "cell_type": "code",
   "execution_count": 49,
   "metadata": {
    "ExecuteTime": {
     "end_time": "2023-09-01T06:35:19.273493Z",
     "start_time": "2023-09-01T06:35:19.256035Z"
    }
   },
   "outputs": [
    {
     "data": {
      "text/plain": "   PassengerId                                               Name     Sex  \\\n1            2  Cumings, Mrs. John Bradley (Florence Briggs Th...  female   \n2            3                             Heikkinen, Miss. Laina  female   \n3            4       Futrelle, Mrs. Jacques Heath (Lily May Peel)  female   \n4            5                           Allen, Mr. William Henry    male   \n5            6                                   Moran, Mr. James    male   \n\n          Age  Family  \n1        38.0       1  \n2        26.0       0  \n3        35.0       1  \n4        35.0       0  \n5  FILL VALUE       0  ",
      "text/html": "<div>\n<style scoped>\n    .dataframe tbody tr th:only-of-type {\n        vertical-align: middle;\n    }\n\n    .dataframe tbody tr th {\n        vertical-align: top;\n    }\n\n    .dataframe thead th {\n        text-align: right;\n    }\n</style>\n<table border=\"1\" class=\"dataframe\">\n  <thead>\n    <tr style=\"text-align: right;\">\n      <th></th>\n      <th>PassengerId</th>\n      <th>Name</th>\n      <th>Sex</th>\n      <th>Age</th>\n      <th>Family</th>\n    </tr>\n  </thead>\n  <tbody>\n    <tr>\n      <th>1</th>\n      <td>2</td>\n      <td>Cumings, Mrs. John Bradley (Florence Briggs Th...</td>\n      <td>female</td>\n      <td>38.0</td>\n      <td>1</td>\n    </tr>\n    <tr>\n      <th>2</th>\n      <td>3</td>\n      <td>Heikkinen, Miss. Laina</td>\n      <td>female</td>\n      <td>26.0</td>\n      <td>0</td>\n    </tr>\n    <tr>\n      <th>3</th>\n      <td>4</td>\n      <td>Futrelle, Mrs. Jacques Heath (Lily May Peel)</td>\n      <td>female</td>\n      <td>35.0</td>\n      <td>1</td>\n    </tr>\n    <tr>\n      <th>4</th>\n      <td>5</td>\n      <td>Allen, Mr. William Henry</td>\n      <td>male</td>\n      <td>35.0</td>\n      <td>0</td>\n    </tr>\n    <tr>\n      <th>5</th>\n      <td>6</td>\n      <td>Moran, Mr. James</td>\n      <td>male</td>\n      <td>FILL VALUE</td>\n      <td>0</td>\n    </tr>\n  </tbody>\n</table>\n</div>"
     },
     "execution_count": 49,
     "metadata": {},
     "output_type": "execute_result"
    }
   ],
   "source": [
    "titanic.fillna(value='FILL VALUE').head()"
   ]
  },
  {
   "cell_type": "markdown",
   "metadata": {},
   "source": [
    "#### Filling values with a computed value (e.g., mean of column A)"
   ]
  },
  {
   "cell_type": "code",
   "execution_count": 50,
   "metadata": {
    "ExecuteTime": {
     "end_time": "2023-09-01T06:35:20.446854Z",
     "start_time": "2023-09-01T06:35:20.420790Z"
    }
   },
   "outputs": [
    {
     "data": {
      "text/plain": "   PassengerId                                               Name     Sex  \\\n1            2  Cumings, Mrs. John Bradley (Florence Briggs Th...  female   \n2            3                             Heikkinen, Miss. Laina  female   \n3            4       Futrelle, Mrs. Jacques Heath (Lily May Peel)  female   \n4            5                           Allen, Mr. William Henry    male   \n5            6                                   Moran, Mr. James    male   \n\n         Age  Family  \n1  38.000000       1  \n2  26.000000       0  \n3  35.000000       1  \n4  35.000000       0  \n5  29.709916       0  ",
      "text/html": "<div>\n<style scoped>\n    .dataframe tbody tr th:only-of-type {\n        vertical-align: middle;\n    }\n\n    .dataframe tbody tr th {\n        vertical-align: top;\n    }\n\n    .dataframe thead th {\n        text-align: right;\n    }\n</style>\n<table border=\"1\" class=\"dataframe\">\n  <thead>\n    <tr style=\"text-align: right;\">\n      <th></th>\n      <th>PassengerId</th>\n      <th>Name</th>\n      <th>Sex</th>\n      <th>Age</th>\n      <th>Family</th>\n    </tr>\n  </thead>\n  <tbody>\n    <tr>\n      <th>1</th>\n      <td>2</td>\n      <td>Cumings, Mrs. John Bradley (Florence Briggs Th...</td>\n      <td>female</td>\n      <td>38.000000</td>\n      <td>1</td>\n    </tr>\n    <tr>\n      <th>2</th>\n      <td>3</td>\n      <td>Heikkinen, Miss. Laina</td>\n      <td>female</td>\n      <td>26.000000</td>\n      <td>0</td>\n    </tr>\n    <tr>\n      <th>3</th>\n      <td>4</td>\n      <td>Futrelle, Mrs. Jacques Heath (Lily May Peel)</td>\n      <td>female</td>\n      <td>35.000000</td>\n      <td>1</td>\n    </tr>\n    <tr>\n      <th>4</th>\n      <td>5</td>\n      <td>Allen, Mr. William Henry</td>\n      <td>male</td>\n      <td>35.000000</td>\n      <td>0</td>\n    </tr>\n    <tr>\n      <th>5</th>\n      <td>6</td>\n      <td>Moran, Mr. James</td>\n      <td>male</td>\n      <td>29.709916</td>\n      <td>0</td>\n    </tr>\n  </tbody>\n</table>\n</div>"
     },
     "execution_count": 50,
     "metadata": {},
     "output_type": "execute_result"
    }
   ],
   "source": [
    "titanic.fillna(value={'Age': titanic['Age'].mean()}).head()"
   ]
  },
  {
   "cell_type": "markdown",
   "metadata": {},
   "source": [
    "<a id='de2'></a>\n",
    "### 3.B GroupBy ([to top](#top))\n",
    "DataFrames allow to group rows by column values so to compute aggregated statistics (i.e., sum, mean...)"
   ]
  },
  {
   "cell_type": "code",
   "execution_count": 51,
   "metadata": {
    "ExecuteTime": {
     "end_time": "2023-09-01T06:35:28.778006Z",
     "start_time": "2023-09-01T06:35:28.771587Z"
    }
   },
   "outputs": [
    {
     "data": {
      "text/plain": "              Age\nFamily           \n0       32.220297\n1       31.459565\n2       26.035806\n3       18.274815\n4       20.818182\n5       18.409091\n6       15.166667\n7       15.666667\n10            NaN",
      "text/html": "<div>\n<style scoped>\n    .dataframe tbody tr th:only-of-type {\n        vertical-align: middle;\n    }\n\n    .dataframe tbody tr th {\n        vertical-align: top;\n    }\n\n    .dataframe thead th {\n        text-align: right;\n    }\n</style>\n<table border=\"1\" class=\"dataframe\">\n  <thead>\n    <tr style=\"text-align: right;\">\n      <th></th>\n      <th>Age</th>\n    </tr>\n    <tr>\n      <th>Family</th>\n      <th></th>\n    </tr>\n  </thead>\n  <tbody>\n    <tr>\n      <th>0</th>\n      <td>32.220297</td>\n    </tr>\n    <tr>\n      <th>1</th>\n      <td>31.459565</td>\n    </tr>\n    <tr>\n      <th>2</th>\n      <td>26.035806</td>\n    </tr>\n    <tr>\n      <th>3</th>\n      <td>18.274815</td>\n    </tr>\n    <tr>\n      <th>4</th>\n      <td>20.818182</td>\n    </tr>\n    <tr>\n      <th>5</th>\n      <td>18.409091</td>\n    </tr>\n    <tr>\n      <th>6</th>\n      <td>15.166667</td>\n    </tr>\n    <tr>\n      <th>7</th>\n      <td>15.666667</td>\n    </tr>\n    <tr>\n      <th>10</th>\n      <td>NaN</td>\n    </tr>\n  </tbody>\n</table>\n</div>"
     },
     "execution_count": 51,
     "metadata": {},
     "output_type": "execute_result"
    }
   ],
   "source": [
    "t3 = titanic.groupby('Family')\n",
    "t3[['Age']].mean()"
   ]
  },
  {
   "cell_type": "code",
   "execution_count": 52,
   "metadata": {
    "ExecuteTime": {
     "end_time": "2023-09-01T06:35:29.214789Z",
     "start_time": "2023-09-01T06:35:29.156693Z"
    }
   },
   "outputs": [
    {
     "data": {
      "text/plain": "          Age                                                      \n        count       mean        std   min    25%   50%    75%   max\nFamily                                                             \n0       404.0  32.220297  12.899871  5.00  22.00  29.5  39.00  80.0\n1       138.0  31.459565  13.509524  0.42  22.00  29.5  42.00  65.0\n2        93.0  26.035806  16.542123  0.67  15.00  27.0  37.00  70.0\n3        27.0  18.274815  14.304131  0.75   3.50  23.0  28.00  48.0\n4        11.0  20.818182  17.069377  2.00   8.50  18.0  25.00  54.0\n5        22.0  18.409091  17.388171  1.00   4.75  12.0  24.00  64.0\n6        12.0  15.166667  14.732977  2.00   4.75   9.0  22.25  39.0\n7         6.0  15.666667  14.361987  1.00   9.50  12.5  15.50  43.0\n10        0.0        NaN        NaN   NaN    NaN   NaN    NaN   NaN",
      "text/html": "<div>\n<style scoped>\n    .dataframe tbody tr th:only-of-type {\n        vertical-align: middle;\n    }\n\n    .dataframe tbody tr th {\n        vertical-align: top;\n    }\n\n    .dataframe thead tr th {\n        text-align: left;\n    }\n\n    .dataframe thead tr:last-of-type th {\n        text-align: right;\n    }\n</style>\n<table border=\"1\" class=\"dataframe\">\n  <thead>\n    <tr>\n      <th></th>\n      <th colspan=\"8\" halign=\"left\">Age</th>\n    </tr>\n    <tr>\n      <th></th>\n      <th>count</th>\n      <th>mean</th>\n      <th>std</th>\n      <th>min</th>\n      <th>25%</th>\n      <th>50%</th>\n      <th>75%</th>\n      <th>max</th>\n    </tr>\n    <tr>\n      <th>Family</th>\n      <th></th>\n      <th></th>\n      <th></th>\n      <th></th>\n      <th></th>\n      <th></th>\n      <th></th>\n      <th></th>\n    </tr>\n  </thead>\n  <tbody>\n    <tr>\n      <th>0</th>\n      <td>404.0</td>\n      <td>32.220297</td>\n      <td>12.899871</td>\n      <td>5.00</td>\n      <td>22.00</td>\n      <td>29.5</td>\n      <td>39.00</td>\n      <td>80.0</td>\n    </tr>\n    <tr>\n      <th>1</th>\n      <td>138.0</td>\n      <td>31.459565</td>\n      <td>13.509524</td>\n      <td>0.42</td>\n      <td>22.00</td>\n      <td>29.5</td>\n      <td>42.00</td>\n      <td>65.0</td>\n    </tr>\n    <tr>\n      <th>2</th>\n      <td>93.0</td>\n      <td>26.035806</td>\n      <td>16.542123</td>\n      <td>0.67</td>\n      <td>15.00</td>\n      <td>27.0</td>\n      <td>37.00</td>\n      <td>70.0</td>\n    </tr>\n    <tr>\n      <th>3</th>\n      <td>27.0</td>\n      <td>18.274815</td>\n      <td>14.304131</td>\n      <td>0.75</td>\n      <td>3.50</td>\n      <td>23.0</td>\n      <td>28.00</td>\n      <td>48.0</td>\n    </tr>\n    <tr>\n      <th>4</th>\n      <td>11.0</td>\n      <td>20.818182</td>\n      <td>17.069377</td>\n      <td>2.00</td>\n      <td>8.50</td>\n      <td>18.0</td>\n      <td>25.00</td>\n      <td>54.0</td>\n    </tr>\n    <tr>\n      <th>5</th>\n      <td>22.0</td>\n      <td>18.409091</td>\n      <td>17.388171</td>\n      <td>1.00</td>\n      <td>4.75</td>\n      <td>12.0</td>\n      <td>24.00</td>\n      <td>64.0</td>\n    </tr>\n    <tr>\n      <th>6</th>\n      <td>12.0</td>\n      <td>15.166667</td>\n      <td>14.732977</td>\n      <td>2.00</td>\n      <td>4.75</td>\n      <td>9.0</td>\n      <td>22.25</td>\n      <td>39.0</td>\n    </tr>\n    <tr>\n      <th>7</th>\n      <td>6.0</td>\n      <td>15.666667</td>\n      <td>14.361987</td>\n      <td>1.00</td>\n      <td>9.50</td>\n      <td>12.5</td>\n      <td>15.50</td>\n      <td>43.0</td>\n    </tr>\n    <tr>\n      <th>10</th>\n      <td>0.0</td>\n      <td>NaN</td>\n      <td>NaN</td>\n      <td>NaN</td>\n      <td>NaN</td>\n      <td>NaN</td>\n      <td>NaN</td>\n      <td>NaN</td>\n    </tr>\n  </tbody>\n</table>\n</div>"
     },
     "execution_count": 52,
     "metadata": {},
     "output_type": "execute_result"
    }
   ],
   "source": [
    "t4 = pd.DataFrame(titanic[['Age', 'Family']].groupby('Family').describe())\n",
    "t4"
   ]
  },
  {
   "cell_type": "markdown",
   "metadata": {},
   "source": [
    "In order to select a single row of the resulting DataFrame it is necessary to:\n",
    "- access it via *loc*\n",
    "- transpose the results"
   ]
  },
  {
   "cell_type": "code",
   "execution_count": 53,
   "metadata": {
    "ExecuteTime": {
     "end_time": "2023-09-01T06:35:30.204745Z",
     "start_time": "2023-09-01T06:35:30.196572Z"
    }
   },
   "outputs": [
    {
     "data": {
      "text/plain": "                    1\nAge count  138.000000\n    mean    31.459565\n    std     13.509524\n    min      0.420000\n    25%     22.000000\n    50%     29.500000\n    75%     42.000000\n    max     65.000000",
      "text/html": "<div>\n<style scoped>\n    .dataframe tbody tr th:only-of-type {\n        vertical-align: middle;\n    }\n\n    .dataframe tbody tr th {\n        vertical-align: top;\n    }\n\n    .dataframe thead th {\n        text-align: right;\n    }\n</style>\n<table border=\"1\" class=\"dataframe\">\n  <thead>\n    <tr style=\"text-align: right;\">\n      <th></th>\n      <th></th>\n      <th>1</th>\n    </tr>\n  </thead>\n  <tbody>\n    <tr>\n      <th rowspan=\"8\" valign=\"top\">Age</th>\n      <th>count</th>\n      <td>138.000000</td>\n    </tr>\n    <tr>\n      <th>mean</th>\n      <td>31.459565</td>\n    </tr>\n    <tr>\n      <th>std</th>\n      <td>13.509524</td>\n    </tr>\n    <tr>\n      <th>min</th>\n      <td>0.420000</td>\n    </tr>\n    <tr>\n      <th>25%</th>\n      <td>22.000000</td>\n    </tr>\n    <tr>\n      <th>50%</th>\n      <td>29.500000</td>\n    </tr>\n    <tr>\n      <th>75%</th>\n      <td>42.000000</td>\n    </tr>\n    <tr>\n      <th>max</th>\n      <td>65.000000</td>\n    </tr>\n  </tbody>\n</table>\n</div>"
     },
     "execution_count": 53,
     "metadata": {},
     "output_type": "execute_result"
    }
   ],
   "source": [
    "titanic_first_class = pd.DataFrame(t4.loc[1])\n",
    "titanic_first_class"
   ]
  },
  {
   "cell_type": "code",
   "execution_count": 54,
   "metadata": {
    "ExecuteTime": {
     "end_time": "2023-09-01T06:35:30.612156Z",
     "start_time": "2023-09-01T06:35:30.596205Z"
    }
   },
   "outputs": [
    {
     "data": {
      "text/plain": "     Age                                                    \n   count       mean        std   min   25%   50%   75%   max\n1  138.0  31.459565  13.509524  0.42  22.0  29.5  42.0  65.0",
      "text/html": "<div>\n<style scoped>\n    .dataframe tbody tr th:only-of-type {\n        vertical-align: middle;\n    }\n\n    .dataframe tbody tr th {\n        vertical-align: top;\n    }\n\n    .dataframe thead tr th {\n        text-align: left;\n    }\n</style>\n<table border=\"1\" class=\"dataframe\">\n  <thead>\n    <tr>\n      <th></th>\n      <th colspan=\"8\" halign=\"left\">Age</th>\n    </tr>\n    <tr>\n      <th></th>\n      <th>count</th>\n      <th>mean</th>\n      <th>std</th>\n      <th>min</th>\n      <th>25%</th>\n      <th>50%</th>\n      <th>75%</th>\n      <th>max</th>\n    </tr>\n  </thead>\n  <tbody>\n    <tr>\n      <th>1</th>\n      <td>138.0</td>\n      <td>31.459565</td>\n      <td>13.509524</td>\n      <td>0.42</td>\n      <td>22.0</td>\n      <td>29.5</td>\n      <td>42.0</td>\n      <td>65.0</td>\n    </tr>\n  </tbody>\n</table>\n</div>"
     },
     "execution_count": 54,
     "metadata": {},
     "output_type": "execute_result"
    }
   ],
   "source": [
    "titanic_first_class.transpose()"
   ]
  },
  {
   "cell_type": "markdown",
   "metadata": {},
   "source": [
    "The latter operation is not required if the selection is on multiple rows"
   ]
  },
  {
   "cell_type": "code",
   "execution_count": 55,
   "metadata": {
    "ExecuteTime": {
     "end_time": "2023-09-01T06:35:31.370305Z",
     "start_time": "2023-09-01T06:35:31.323460Z"
    }
   },
   "outputs": [
    {
     "data": {
      "text/plain": "          Age                                                    \n        count       mean        std   min   25%   50%   75%   max\nFamily                                                           \n1       138.0  31.459565  13.509524  0.42  22.0  29.5  42.0  65.0\n2        93.0  26.035806  16.542123  0.67  15.0  27.0  37.0  70.0\n3        27.0  18.274815  14.304131  0.75   3.5  23.0  28.0  48.0",
      "text/html": "<div>\n<style scoped>\n    .dataframe tbody tr th:only-of-type {\n        vertical-align: middle;\n    }\n\n    .dataframe tbody tr th {\n        vertical-align: top;\n    }\n\n    .dataframe thead tr th {\n        text-align: left;\n    }\n\n    .dataframe thead tr:last-of-type th {\n        text-align: right;\n    }\n</style>\n<table border=\"1\" class=\"dataframe\">\n  <thead>\n    <tr>\n      <th></th>\n      <th colspan=\"8\" halign=\"left\">Age</th>\n    </tr>\n    <tr>\n      <th></th>\n      <th>count</th>\n      <th>mean</th>\n      <th>std</th>\n      <th>min</th>\n      <th>25%</th>\n      <th>50%</th>\n      <th>75%</th>\n      <th>max</th>\n    </tr>\n    <tr>\n      <th>Family</th>\n      <th></th>\n      <th></th>\n      <th></th>\n      <th></th>\n      <th></th>\n      <th></th>\n      <th></th>\n      <th></th>\n    </tr>\n  </thead>\n  <tbody>\n    <tr>\n      <th>1</th>\n      <td>138.0</td>\n      <td>31.459565</td>\n      <td>13.509524</td>\n      <td>0.42</td>\n      <td>22.0</td>\n      <td>29.5</td>\n      <td>42.0</td>\n      <td>65.0</td>\n    </tr>\n    <tr>\n      <th>2</th>\n      <td>93.0</td>\n      <td>26.035806</td>\n      <td>16.542123</td>\n      <td>0.67</td>\n      <td>15.0</td>\n      <td>27.0</td>\n      <td>37.0</td>\n      <td>70.0</td>\n    </tr>\n    <tr>\n      <th>3</th>\n      <td>27.0</td>\n      <td>18.274815</td>\n      <td>14.304131</td>\n      <td>0.75</td>\n      <td>3.5</td>\n      <td>23.0</td>\n      <td>28.0</td>\n      <td>48.0</td>\n    </tr>\n  </tbody>\n</table>\n</div>"
     },
     "execution_count": 55,
     "metadata": {},
     "output_type": "execute_result"
    }
   ],
   "source": [
    "titanic[['Age', 'Family']].groupby('Family').describe().loc[[1, 2, 3]]"
   ]
  },
  {
   "cell_type": "markdown",
   "metadata": {},
   "source": [
    "<a id='de3'></a>\n",
    "### 3.C Concatenation ([to top](#top))"
   ]
  },
  {
   "cell_type": "markdown",
   "metadata": {},
   "source": [
    "DataFrames can be easily contatenated by row as well as by column"
   ]
  },
  {
   "cell_type": "code",
   "execution_count": 56,
   "metadata": {
    "ExecuteTime": {
     "end_time": "2023-09-01T06:35:32.529671Z",
     "start_time": "2023-09-01T06:35:32.517904Z"
    }
   },
   "outputs": [
    {
     "data": {
      "text/plain": "   PassengerId  Survived  Pclass Embarked Cabin            Ticket     Fare\n0            2         1       1        C   C85          PC 17599  71.2833\n1            3         1       3        S   NaN  STON/O2. 3101282   7.9250\n2            4         1       1        S  C123            113803  53.1000\n3            5         0       3        S   NaN            373450   8.0500\n4            6         0       3        Q   NaN            330877   8.4583",
      "text/html": "<div>\n<style scoped>\n    .dataframe tbody tr th:only-of-type {\n        vertical-align: middle;\n    }\n\n    .dataframe tbody tr th {\n        vertical-align: top;\n    }\n\n    .dataframe thead th {\n        text-align: right;\n    }\n</style>\n<table border=\"1\" class=\"dataframe\">\n  <thead>\n    <tr style=\"text-align: right;\">\n      <th></th>\n      <th>PassengerId</th>\n      <th>Survived</th>\n      <th>Pclass</th>\n      <th>Embarked</th>\n      <th>Cabin</th>\n      <th>Ticket</th>\n      <th>Fare</th>\n    </tr>\n  </thead>\n  <tbody>\n    <tr>\n      <th>0</th>\n      <td>2</td>\n      <td>1</td>\n      <td>1</td>\n      <td>C</td>\n      <td>C85</td>\n      <td>PC 17599</td>\n      <td>71.2833</td>\n    </tr>\n    <tr>\n      <th>1</th>\n      <td>3</td>\n      <td>1</td>\n      <td>3</td>\n      <td>S</td>\n      <td>NaN</td>\n      <td>STON/O2. 3101282</td>\n      <td>7.9250</td>\n    </tr>\n    <tr>\n      <th>2</th>\n      <td>4</td>\n      <td>1</td>\n      <td>1</td>\n      <td>S</td>\n      <td>C123</td>\n      <td>113803</td>\n      <td>53.1000</td>\n    </tr>\n    <tr>\n      <th>3</th>\n      <td>5</td>\n      <td>0</td>\n      <td>3</td>\n      <td>S</td>\n      <td>NaN</td>\n      <td>373450</td>\n      <td>8.0500</td>\n    </tr>\n    <tr>\n      <th>4</th>\n      <td>6</td>\n      <td>0</td>\n      <td>3</td>\n      <td>Q</td>\n      <td>NaN</td>\n      <td>330877</td>\n      <td>8.4583</td>\n    </tr>\n  </tbody>\n</table>\n</div>"
     },
     "execution_count": 56,
     "metadata": {},
     "output_type": "execute_result"
    }
   ],
   "source": [
    "trip = pd.read_csv(\"data/titanic_status.csv\")\n",
    "trip.head()"
   ]
  },
  {
   "cell_type": "code",
   "execution_count": 57,
   "metadata": {
    "ExecuteTime": {
     "end_time": "2023-09-01T06:35:33.172551Z",
     "start_time": "2023-09-01T06:35:33.162172Z"
    }
   },
   "outputs": [
    {
     "data": {
      "text/plain": "   PassengerId                                               Name     Sex  \\\n0            1                            Braund, Mr. Owen Harris    male   \n1            2  Cumings, Mrs. John Bradley (Florence Briggs Th...  female   \n2            3                             Heikkinen, Miss. Laina  female   \n3            4       Futrelle, Mrs. Jacques Heath (Lily May Peel)  female   \n4            5                           Allen, Mr. William Henry    male   \n\n    Age  SibSp  Parch  \n0  22.0      1      0  \n1  38.0      1      0  \n2  26.0      0      0  \n3  35.0      1      0  \n4  35.0      0      0  ",
      "text/html": "<div>\n<style scoped>\n    .dataframe tbody tr th:only-of-type {\n        vertical-align: middle;\n    }\n\n    .dataframe tbody tr th {\n        vertical-align: top;\n    }\n\n    .dataframe thead th {\n        text-align: right;\n    }\n</style>\n<table border=\"1\" class=\"dataframe\">\n  <thead>\n    <tr style=\"text-align: right;\">\n      <th></th>\n      <th>PassengerId</th>\n      <th>Name</th>\n      <th>Sex</th>\n      <th>Age</th>\n      <th>SibSp</th>\n      <th>Parch</th>\n    </tr>\n  </thead>\n  <tbody>\n    <tr>\n      <th>0</th>\n      <td>1</td>\n      <td>Braund, Mr. Owen Harris</td>\n      <td>male</td>\n      <td>22.0</td>\n      <td>1</td>\n      <td>0</td>\n    </tr>\n    <tr>\n      <th>1</th>\n      <td>2</td>\n      <td>Cumings, Mrs. John Bradley (Florence Briggs Th...</td>\n      <td>female</td>\n      <td>38.0</td>\n      <td>1</td>\n      <td>0</td>\n    </tr>\n    <tr>\n      <th>2</th>\n      <td>3</td>\n      <td>Heikkinen, Miss. Laina</td>\n      <td>female</td>\n      <td>26.0</td>\n      <td>0</td>\n      <td>0</td>\n    </tr>\n    <tr>\n      <th>3</th>\n      <td>4</td>\n      <td>Futrelle, Mrs. Jacques Heath (Lily May Peel)</td>\n      <td>female</td>\n      <td>35.0</td>\n      <td>1</td>\n      <td>0</td>\n    </tr>\n    <tr>\n      <th>4</th>\n      <td>5</td>\n      <td>Allen, Mr. William Henry</td>\n      <td>male</td>\n      <td>35.0</td>\n      <td>0</td>\n      <td>0</td>\n    </tr>\n  </tbody>\n</table>\n</div>"
     },
     "execution_count": 57,
     "metadata": {},
     "output_type": "execute_result"
    }
   ],
   "source": [
    "passengers = pd.read_csv(\"data/titanic_passengers.csv\")\n",
    "passengers.head()"
   ]
  },
  {
   "cell_type": "code",
   "execution_count": 58,
   "metadata": {
    "ExecuteTime": {
     "end_time": "2023-09-01T06:35:33.580715Z",
     "start_time": "2023-09-01T06:35:33.569797Z"
    }
   },
   "outputs": [
    {
     "data": {
      "text/plain": "   PassengerId                                               Name     Sex  \\\n0            1                            Braund, Mr. Owen Harris    male   \n1            2  Cumings, Mrs. John Bradley (Florence Briggs Th...  female   \n2            3                             Heikkinen, Miss. Laina  female   \n3            4       Futrelle, Mrs. Jacques Heath (Lily May Peel)  female   \n4            5                           Allen, Mr. William Henry    male   \n\n    Age  SibSp  Parch  Survived  Pclass Embarked Cabin Ticket  Fare  \n0  22.0    1.0    0.0       NaN     NaN      NaN   NaN    NaN   NaN  \n1  38.0    1.0    0.0       NaN     NaN      NaN   NaN    NaN   NaN  \n2  26.0    0.0    0.0       NaN     NaN      NaN   NaN    NaN   NaN  \n3  35.0    1.0    0.0       NaN     NaN      NaN   NaN    NaN   NaN  \n4  35.0    0.0    0.0       NaN     NaN      NaN   NaN    NaN   NaN  ",
      "text/html": "<div>\n<style scoped>\n    .dataframe tbody tr th:only-of-type {\n        vertical-align: middle;\n    }\n\n    .dataframe tbody tr th {\n        vertical-align: top;\n    }\n\n    .dataframe thead th {\n        text-align: right;\n    }\n</style>\n<table border=\"1\" class=\"dataframe\">\n  <thead>\n    <tr style=\"text-align: right;\">\n      <th></th>\n      <th>PassengerId</th>\n      <th>Name</th>\n      <th>Sex</th>\n      <th>Age</th>\n      <th>SibSp</th>\n      <th>Parch</th>\n      <th>Survived</th>\n      <th>Pclass</th>\n      <th>Embarked</th>\n      <th>Cabin</th>\n      <th>Ticket</th>\n      <th>Fare</th>\n    </tr>\n  </thead>\n  <tbody>\n    <tr>\n      <th>0</th>\n      <td>1</td>\n      <td>Braund, Mr. Owen Harris</td>\n      <td>male</td>\n      <td>22.0</td>\n      <td>1.0</td>\n      <td>0.0</td>\n      <td>NaN</td>\n      <td>NaN</td>\n      <td>NaN</td>\n      <td>NaN</td>\n      <td>NaN</td>\n      <td>NaN</td>\n    </tr>\n    <tr>\n      <th>1</th>\n      <td>2</td>\n      <td>Cumings, Mrs. John Bradley (Florence Briggs Th...</td>\n      <td>female</td>\n      <td>38.0</td>\n      <td>1.0</td>\n      <td>0.0</td>\n      <td>NaN</td>\n      <td>NaN</td>\n      <td>NaN</td>\n      <td>NaN</td>\n      <td>NaN</td>\n      <td>NaN</td>\n    </tr>\n    <tr>\n      <th>2</th>\n      <td>3</td>\n      <td>Heikkinen, Miss. Laina</td>\n      <td>female</td>\n      <td>26.0</td>\n      <td>0.0</td>\n      <td>0.0</td>\n      <td>NaN</td>\n      <td>NaN</td>\n      <td>NaN</td>\n      <td>NaN</td>\n      <td>NaN</td>\n      <td>NaN</td>\n    </tr>\n    <tr>\n      <th>3</th>\n      <td>4</td>\n      <td>Futrelle, Mrs. Jacques Heath (Lily May Peel)</td>\n      <td>female</td>\n      <td>35.0</td>\n      <td>1.0</td>\n      <td>0.0</td>\n      <td>NaN</td>\n      <td>NaN</td>\n      <td>NaN</td>\n      <td>NaN</td>\n      <td>NaN</td>\n      <td>NaN</td>\n    </tr>\n    <tr>\n      <th>4</th>\n      <td>5</td>\n      <td>Allen, Mr. William Henry</td>\n      <td>male</td>\n      <td>35.0</td>\n      <td>0.0</td>\n      <td>0.0</td>\n      <td>NaN</td>\n      <td>NaN</td>\n      <td>NaN</td>\n      <td>NaN</td>\n      <td>NaN</td>\n      <td>NaN</td>\n    </tr>\n  </tbody>\n</table>\n</div>"
     },
     "execution_count": 58,
     "metadata": {},
     "output_type": "execute_result"
    }
   ],
   "source": [
    "row_concat = pd.concat([passengers, trip], axis=0)\n",
    "row_concat.head()"
   ]
  },
  {
   "cell_type": "code",
   "execution_count": 59,
   "metadata": {
    "ExecuteTime": {
     "end_time": "2023-09-01T06:35:34.009497Z",
     "start_time": "2023-09-01T06:35:33.989235Z"
    }
   },
   "outputs": [
    {
     "data": {
      "text/plain": "   PassengerId                                               Name     Sex  \\\n0            1                            Braund, Mr. Owen Harris    male   \n1            2  Cumings, Mrs. John Bradley (Florence Briggs Th...  female   \n2            3                             Heikkinen, Miss. Laina  female   \n3            4       Futrelle, Mrs. Jacques Heath (Lily May Peel)  female   \n4            5                           Allen, Mr. William Henry    male   \n\n    Age  SibSp  Parch  PassengerId  Survived  Pclass Embarked Cabin  \\\n0  22.0      1      0          2.0       1.0     1.0        C   C85   \n1  38.0      1      0          3.0       1.0     3.0        S   NaN   \n2  26.0      0      0          4.0       1.0     1.0        S  C123   \n3  35.0      1      0          5.0       0.0     3.0        S   NaN   \n4  35.0      0      0          6.0       0.0     3.0        Q   NaN   \n\n             Ticket     Fare  \n0          PC 17599  71.2833  \n1  STON/O2. 3101282   7.9250  \n2            113803  53.1000  \n3            373450   8.0500  \n4            330877   8.4583  ",
      "text/html": "<div>\n<style scoped>\n    .dataframe tbody tr th:only-of-type {\n        vertical-align: middle;\n    }\n\n    .dataframe tbody tr th {\n        vertical-align: top;\n    }\n\n    .dataframe thead th {\n        text-align: right;\n    }\n</style>\n<table border=\"1\" class=\"dataframe\">\n  <thead>\n    <tr style=\"text-align: right;\">\n      <th></th>\n      <th>PassengerId</th>\n      <th>Name</th>\n      <th>Sex</th>\n      <th>Age</th>\n      <th>SibSp</th>\n      <th>Parch</th>\n      <th>PassengerId</th>\n      <th>Survived</th>\n      <th>Pclass</th>\n      <th>Embarked</th>\n      <th>Cabin</th>\n      <th>Ticket</th>\n      <th>Fare</th>\n    </tr>\n  </thead>\n  <tbody>\n    <tr>\n      <th>0</th>\n      <td>1</td>\n      <td>Braund, Mr. Owen Harris</td>\n      <td>male</td>\n      <td>22.0</td>\n      <td>1</td>\n      <td>0</td>\n      <td>2.0</td>\n      <td>1.0</td>\n      <td>1.0</td>\n      <td>C</td>\n      <td>C85</td>\n      <td>PC 17599</td>\n      <td>71.2833</td>\n    </tr>\n    <tr>\n      <th>1</th>\n      <td>2</td>\n      <td>Cumings, Mrs. John Bradley (Florence Briggs Th...</td>\n      <td>female</td>\n      <td>38.0</td>\n      <td>1</td>\n      <td>0</td>\n      <td>3.0</td>\n      <td>1.0</td>\n      <td>3.0</td>\n      <td>S</td>\n      <td>NaN</td>\n      <td>STON/O2. 3101282</td>\n      <td>7.9250</td>\n    </tr>\n    <tr>\n      <th>2</th>\n      <td>3</td>\n      <td>Heikkinen, Miss. Laina</td>\n      <td>female</td>\n      <td>26.0</td>\n      <td>0</td>\n      <td>0</td>\n      <td>4.0</td>\n      <td>1.0</td>\n      <td>1.0</td>\n      <td>S</td>\n      <td>C123</td>\n      <td>113803</td>\n      <td>53.1000</td>\n    </tr>\n    <tr>\n      <th>3</th>\n      <td>4</td>\n      <td>Futrelle, Mrs. Jacques Heath (Lily May Peel)</td>\n      <td>female</td>\n      <td>35.0</td>\n      <td>1</td>\n      <td>0</td>\n      <td>5.0</td>\n      <td>0.0</td>\n      <td>3.0</td>\n      <td>S</td>\n      <td>NaN</td>\n      <td>373450</td>\n      <td>8.0500</td>\n    </tr>\n    <tr>\n      <th>4</th>\n      <td>5</td>\n      <td>Allen, Mr. William Henry</td>\n      <td>male</td>\n      <td>35.0</td>\n      <td>0</td>\n      <td>0</td>\n      <td>6.0</td>\n      <td>0.0</td>\n      <td>3.0</td>\n      <td>Q</td>\n      <td>NaN</td>\n      <td>330877</td>\n      <td>8.4583</td>\n    </tr>\n  </tbody>\n</table>\n</div>"
     },
     "execution_count": 59,
     "metadata": {},
     "output_type": "execute_result"
    }
   ],
   "source": [
    "column_concat = pd.concat([passengers, trip], axis=1)\n",
    "column_concat.head()"
   ]
  },
  {
   "cell_type": "markdown",
   "metadata": {},
   "source": [
    "Filling NaN with a fixed value"
   ]
  },
  {
   "cell_type": "code",
   "execution_count": 60,
   "metadata": {
    "ExecuteTime": {
     "end_time": "2023-09-01T06:35:34.809556Z",
     "start_time": "2023-09-01T06:35:34.787103Z"
    }
   },
   "outputs": [
    {
     "data": {
      "text/plain": "   PassengerId                                               Name     Sex  \\\n0            1                            Braund, Mr. Owen Harris    male   \n1            2  Cumings, Mrs. John Bradley (Florence Briggs Th...  female   \n2            3                             Heikkinen, Miss. Laina  female   \n3            4       Futrelle, Mrs. Jacques Heath (Lily May Peel)  female   \n4            5                           Allen, Mr. William Henry    male   \n\n    Age  SibSp  Parch  PassengerId  Survived  Pclass Embarked Cabin  \\\n0  22.0      1      0          2.0       1.0     1.0        C   C85   \n1  38.0      1      0          3.0       1.0     3.0        S     0   \n2  26.0      0      0          4.0       1.0     1.0        S  C123   \n3  35.0      1      0          5.0       0.0     3.0        S     0   \n4  35.0      0      0          6.0       0.0     3.0        Q     0   \n\n             Ticket     Fare  \n0          PC 17599  71.2833  \n1  STON/O2. 3101282   7.9250  \n2            113803  53.1000  \n3            373450   8.0500  \n4            330877   8.4583  ",
      "text/html": "<div>\n<style scoped>\n    .dataframe tbody tr th:only-of-type {\n        vertical-align: middle;\n    }\n\n    .dataframe tbody tr th {\n        vertical-align: top;\n    }\n\n    .dataframe thead th {\n        text-align: right;\n    }\n</style>\n<table border=\"1\" class=\"dataframe\">\n  <thead>\n    <tr style=\"text-align: right;\">\n      <th></th>\n      <th>PassengerId</th>\n      <th>Name</th>\n      <th>Sex</th>\n      <th>Age</th>\n      <th>SibSp</th>\n      <th>Parch</th>\n      <th>PassengerId</th>\n      <th>Survived</th>\n      <th>Pclass</th>\n      <th>Embarked</th>\n      <th>Cabin</th>\n      <th>Ticket</th>\n      <th>Fare</th>\n    </tr>\n  </thead>\n  <tbody>\n    <tr>\n      <th>0</th>\n      <td>1</td>\n      <td>Braund, Mr. Owen Harris</td>\n      <td>male</td>\n      <td>22.0</td>\n      <td>1</td>\n      <td>0</td>\n      <td>2.0</td>\n      <td>1.0</td>\n      <td>1.0</td>\n      <td>C</td>\n      <td>C85</td>\n      <td>PC 17599</td>\n      <td>71.2833</td>\n    </tr>\n    <tr>\n      <th>1</th>\n      <td>2</td>\n      <td>Cumings, Mrs. John Bradley (Florence Briggs Th...</td>\n      <td>female</td>\n      <td>38.0</td>\n      <td>1</td>\n      <td>0</td>\n      <td>3.0</td>\n      <td>1.0</td>\n      <td>3.0</td>\n      <td>S</td>\n      <td>0</td>\n      <td>STON/O2. 3101282</td>\n      <td>7.9250</td>\n    </tr>\n    <tr>\n      <th>2</th>\n      <td>3</td>\n      <td>Heikkinen, Miss. Laina</td>\n      <td>female</td>\n      <td>26.0</td>\n      <td>0</td>\n      <td>0</td>\n      <td>4.0</td>\n      <td>1.0</td>\n      <td>1.0</td>\n      <td>S</td>\n      <td>C123</td>\n      <td>113803</td>\n      <td>53.1000</td>\n    </tr>\n    <tr>\n      <th>3</th>\n      <td>4</td>\n      <td>Futrelle, Mrs. Jacques Heath (Lily May Peel)</td>\n      <td>female</td>\n      <td>35.0</td>\n      <td>1</td>\n      <td>0</td>\n      <td>5.0</td>\n      <td>0.0</td>\n      <td>3.0</td>\n      <td>S</td>\n      <td>0</td>\n      <td>373450</td>\n      <td>8.0500</td>\n    </tr>\n    <tr>\n      <th>4</th>\n      <td>5</td>\n      <td>Allen, Mr. William Henry</td>\n      <td>male</td>\n      <td>35.0</td>\n      <td>0</td>\n      <td>0</td>\n      <td>6.0</td>\n      <td>0.0</td>\n      <td>3.0</td>\n      <td>Q</td>\n      <td>0</td>\n      <td>330877</td>\n      <td>8.4583</td>\n    </tr>\n  </tbody>\n</table>\n</div>"
     },
     "execution_count": 60,
     "metadata": {},
     "output_type": "execute_result"
    }
   ],
   "source": [
    "column_concat.fillna(value=0, inplace=True)\n",
    "column_concat.head()"
   ]
  },
  {
   "cell_type": "markdown",
   "metadata": {},
   "source": [
    "<a id='de4'></a>\n",
    "### 3.D Merging ([to top](#top))\n",
    "DataFrames can be merged if they share a **common key**. <br/>\n",
    "The merge function allows you to merge DataFrames together using a similar logic as merging SQL Tables together."
   ]
  },
  {
   "cell_type": "code",
   "execution_count": 61,
   "metadata": {
    "ExecuteTime": {
     "end_time": "2023-09-01T06:35:35.718047Z",
     "start_time": "2023-09-01T06:35:35.671875Z"
    }
   },
   "outputs": [
    {
     "data": {
      "text/plain": "   PassengerId                                               Name     Sex  \\\n0            2  Cumings, Mrs. John Bradley (Florence Briggs Th...  female   \n1            3                             Heikkinen, Miss. Laina  female   \n2            4       Futrelle, Mrs. Jacques Heath (Lily May Peel)  female   \n3            5                           Allen, Mr. William Henry    male   \n4            6                                   Moran, Mr. James    male   \n\n    Age  SibSp  Parch  Survived  Pclass Embarked Cabin            Ticket  \\\n0  38.0      1      0         1       1        C   C85          PC 17599   \n1  26.0      0      0         1       3        S   NaN  STON/O2. 3101282   \n2  35.0      1      0         1       1        S  C123            113803   \n3  35.0      0      0         0       3        S   NaN            373450   \n4   NaN      0      0         0       3        Q   NaN            330877   \n\n      Fare  \n0  71.2833  \n1   7.9250  \n2  53.1000  \n3   8.0500  \n4   8.4583  ",
      "text/html": "<div>\n<style scoped>\n    .dataframe tbody tr th:only-of-type {\n        vertical-align: middle;\n    }\n\n    .dataframe tbody tr th {\n        vertical-align: top;\n    }\n\n    .dataframe thead th {\n        text-align: right;\n    }\n</style>\n<table border=\"1\" class=\"dataframe\">\n  <thead>\n    <tr style=\"text-align: right;\">\n      <th></th>\n      <th>PassengerId</th>\n      <th>Name</th>\n      <th>Sex</th>\n      <th>Age</th>\n      <th>SibSp</th>\n      <th>Parch</th>\n      <th>Survived</th>\n      <th>Pclass</th>\n      <th>Embarked</th>\n      <th>Cabin</th>\n      <th>Ticket</th>\n      <th>Fare</th>\n    </tr>\n  </thead>\n  <tbody>\n    <tr>\n      <th>0</th>\n      <td>2</td>\n      <td>Cumings, Mrs. John Bradley (Florence Briggs Th...</td>\n      <td>female</td>\n      <td>38.0</td>\n      <td>1</td>\n      <td>0</td>\n      <td>1</td>\n      <td>1</td>\n      <td>C</td>\n      <td>C85</td>\n      <td>PC 17599</td>\n      <td>71.2833</td>\n    </tr>\n    <tr>\n      <th>1</th>\n      <td>3</td>\n      <td>Heikkinen, Miss. Laina</td>\n      <td>female</td>\n      <td>26.0</td>\n      <td>0</td>\n      <td>0</td>\n      <td>1</td>\n      <td>3</td>\n      <td>S</td>\n      <td>NaN</td>\n      <td>STON/O2. 3101282</td>\n      <td>7.9250</td>\n    </tr>\n    <tr>\n      <th>2</th>\n      <td>4</td>\n      <td>Futrelle, Mrs. Jacques Heath (Lily May Peel)</td>\n      <td>female</td>\n      <td>35.0</td>\n      <td>1</td>\n      <td>0</td>\n      <td>1</td>\n      <td>1</td>\n      <td>S</td>\n      <td>C123</td>\n      <td>113803</td>\n      <td>53.1000</td>\n    </tr>\n    <tr>\n      <th>3</th>\n      <td>5</td>\n      <td>Allen, Mr. William Henry</td>\n      <td>male</td>\n      <td>35.0</td>\n      <td>0</td>\n      <td>0</td>\n      <td>0</td>\n      <td>3</td>\n      <td>S</td>\n      <td>NaN</td>\n      <td>373450</td>\n      <td>8.0500</td>\n    </tr>\n    <tr>\n      <th>4</th>\n      <td>6</td>\n      <td>Moran, Mr. James</td>\n      <td>male</td>\n      <td>NaN</td>\n      <td>0</td>\n      <td>0</td>\n      <td>0</td>\n      <td>3</td>\n      <td>Q</td>\n      <td>NaN</td>\n      <td>330877</td>\n      <td>8.4583</td>\n    </tr>\n  </tbody>\n</table>\n</div>"
     },
     "execution_count": 61,
     "metadata": {},
     "output_type": "execute_result"
    }
   ],
   "source": [
    "merge1 = pd.merge(passengers, trip, how='inner',on=['PassengerId'])\n",
    "merge1.head()"
   ]
  },
  {
   "cell_type": "code",
   "execution_count": 62,
   "metadata": {
    "ExecuteTime": {
     "end_time": "2023-09-01T06:35:36.081610Z",
     "start_time": "2023-09-01T06:35:36.040127Z"
    }
   },
   "outputs": [
    {
     "data": {
      "text/plain": "   PassengerId                                               Name     Sex  \\\n0            1                            Braund, Mr. Owen Harris    male   \n1            2  Cumings, Mrs. John Bradley (Florence Briggs Th...  female   \n2            3                             Heikkinen, Miss. Laina  female   \n3            4       Futrelle, Mrs. Jacques Heath (Lily May Peel)  female   \n4            5                           Allen, Mr. William Henry    male   \n\n    Age  SibSp  Parch  Survived  Pclass Embarked Cabin            Ticket  \\\n0  22.0      1      0       NaN     NaN      NaN   NaN               NaN   \n1  38.0      1      0       1.0     1.0        C   C85          PC 17599   \n2  26.0      0      0       1.0     3.0        S   NaN  STON/O2. 3101282   \n3  35.0      1      0       1.0     1.0        S  C123            113803   \n4  35.0      0      0       0.0     3.0        S   NaN            373450   \n\n      Fare  \n0      NaN  \n1  71.2833  \n2   7.9250  \n3  53.1000  \n4   8.0500  ",
      "text/html": "<div>\n<style scoped>\n    .dataframe tbody tr th:only-of-type {\n        vertical-align: middle;\n    }\n\n    .dataframe tbody tr th {\n        vertical-align: top;\n    }\n\n    .dataframe thead th {\n        text-align: right;\n    }\n</style>\n<table border=\"1\" class=\"dataframe\">\n  <thead>\n    <tr style=\"text-align: right;\">\n      <th></th>\n      <th>PassengerId</th>\n      <th>Name</th>\n      <th>Sex</th>\n      <th>Age</th>\n      <th>SibSp</th>\n      <th>Parch</th>\n      <th>Survived</th>\n      <th>Pclass</th>\n      <th>Embarked</th>\n      <th>Cabin</th>\n      <th>Ticket</th>\n      <th>Fare</th>\n    </tr>\n  </thead>\n  <tbody>\n    <tr>\n      <th>0</th>\n      <td>1</td>\n      <td>Braund, Mr. Owen Harris</td>\n      <td>male</td>\n      <td>22.0</td>\n      <td>1</td>\n      <td>0</td>\n      <td>NaN</td>\n      <td>NaN</td>\n      <td>NaN</td>\n      <td>NaN</td>\n      <td>NaN</td>\n      <td>NaN</td>\n    </tr>\n    <tr>\n      <th>1</th>\n      <td>2</td>\n      <td>Cumings, Mrs. John Bradley (Florence Briggs Th...</td>\n      <td>female</td>\n      <td>38.0</td>\n      <td>1</td>\n      <td>0</td>\n      <td>1.0</td>\n      <td>1.0</td>\n      <td>C</td>\n      <td>C85</td>\n      <td>PC 17599</td>\n      <td>71.2833</td>\n    </tr>\n    <tr>\n      <th>2</th>\n      <td>3</td>\n      <td>Heikkinen, Miss. Laina</td>\n      <td>female</td>\n      <td>26.0</td>\n      <td>0</td>\n      <td>0</td>\n      <td>1.0</td>\n      <td>3.0</td>\n      <td>S</td>\n      <td>NaN</td>\n      <td>STON/O2. 3101282</td>\n      <td>7.9250</td>\n    </tr>\n    <tr>\n      <th>3</th>\n      <td>4</td>\n      <td>Futrelle, Mrs. Jacques Heath (Lily May Peel)</td>\n      <td>female</td>\n      <td>35.0</td>\n      <td>1</td>\n      <td>0</td>\n      <td>1.0</td>\n      <td>1.0</td>\n      <td>S</td>\n      <td>C123</td>\n      <td>113803</td>\n      <td>53.1000</td>\n    </tr>\n    <tr>\n      <th>4</th>\n      <td>5</td>\n      <td>Allen, Mr. William Henry</td>\n      <td>male</td>\n      <td>35.0</td>\n      <td>0</td>\n      <td>0</td>\n      <td>0.0</td>\n      <td>3.0</td>\n      <td>S</td>\n      <td>NaN</td>\n      <td>373450</td>\n      <td>8.0500</td>\n    </tr>\n  </tbody>\n</table>\n</div>"
     },
     "execution_count": 62,
     "metadata": {},
     "output_type": "execute_result"
    }
   ],
   "source": [
    "pd.merge(passengers, trip, how='outer',on=['PassengerId']).head()"
   ]
  },
  {
   "cell_type": "code",
   "execution_count": 63,
   "metadata": {
    "ExecuteTime": {
     "end_time": "2023-09-01T06:35:36.380940Z",
     "start_time": "2023-09-01T06:35:36.341406Z"
    }
   },
   "outputs": [
    {
     "data": {
      "text/plain": "   PassengerId                                               Name     Sex  \\\n0            1                            Braund, Mr. Owen Harris    male   \n1            2  Cumings, Mrs. John Bradley (Florence Briggs Th...  female   \n2            3                             Heikkinen, Miss. Laina  female   \n3            4       Futrelle, Mrs. Jacques Heath (Lily May Peel)  female   \n4            5                           Allen, Mr. William Henry    male   \n\n    Age  SibSp  Parch  Survived  Pclass Embarked Cabin            Ticket  \\\n0  22.0      1      0       NaN     NaN      NaN   NaN               NaN   \n1  38.0      1      0       1.0     1.0        C   C85          PC 17599   \n2  26.0      0      0       1.0     3.0        S   NaN  STON/O2. 3101282   \n3  35.0      1      0       1.0     1.0        S  C123            113803   \n4  35.0      0      0       0.0     3.0        S   NaN            373450   \n\n      Fare  \n0      NaN  \n1  71.2833  \n2   7.9250  \n3  53.1000  \n4   8.0500  ",
      "text/html": "<div>\n<style scoped>\n    .dataframe tbody tr th:only-of-type {\n        vertical-align: middle;\n    }\n\n    .dataframe tbody tr th {\n        vertical-align: top;\n    }\n\n    .dataframe thead th {\n        text-align: right;\n    }\n</style>\n<table border=\"1\" class=\"dataframe\">\n  <thead>\n    <tr style=\"text-align: right;\">\n      <th></th>\n      <th>PassengerId</th>\n      <th>Name</th>\n      <th>Sex</th>\n      <th>Age</th>\n      <th>SibSp</th>\n      <th>Parch</th>\n      <th>Survived</th>\n      <th>Pclass</th>\n      <th>Embarked</th>\n      <th>Cabin</th>\n      <th>Ticket</th>\n      <th>Fare</th>\n    </tr>\n  </thead>\n  <tbody>\n    <tr>\n      <th>0</th>\n      <td>1</td>\n      <td>Braund, Mr. Owen Harris</td>\n      <td>male</td>\n      <td>22.0</td>\n      <td>1</td>\n      <td>0</td>\n      <td>NaN</td>\n      <td>NaN</td>\n      <td>NaN</td>\n      <td>NaN</td>\n      <td>NaN</td>\n      <td>NaN</td>\n    </tr>\n    <tr>\n      <th>1</th>\n      <td>2</td>\n      <td>Cumings, Mrs. John Bradley (Florence Briggs Th...</td>\n      <td>female</td>\n      <td>38.0</td>\n      <td>1</td>\n      <td>0</td>\n      <td>1.0</td>\n      <td>1.0</td>\n      <td>C</td>\n      <td>C85</td>\n      <td>PC 17599</td>\n      <td>71.2833</td>\n    </tr>\n    <tr>\n      <th>2</th>\n      <td>3</td>\n      <td>Heikkinen, Miss. Laina</td>\n      <td>female</td>\n      <td>26.0</td>\n      <td>0</td>\n      <td>0</td>\n      <td>1.0</td>\n      <td>3.0</td>\n      <td>S</td>\n      <td>NaN</td>\n      <td>STON/O2. 3101282</td>\n      <td>7.9250</td>\n    </tr>\n    <tr>\n      <th>3</th>\n      <td>4</td>\n      <td>Futrelle, Mrs. Jacques Heath (Lily May Peel)</td>\n      <td>female</td>\n      <td>35.0</td>\n      <td>1</td>\n      <td>0</td>\n      <td>1.0</td>\n      <td>1.0</td>\n      <td>S</td>\n      <td>C123</td>\n      <td>113803</td>\n      <td>53.1000</td>\n    </tr>\n    <tr>\n      <th>4</th>\n      <td>5</td>\n      <td>Allen, Mr. William Henry</td>\n      <td>male</td>\n      <td>35.0</td>\n      <td>0</td>\n      <td>0</td>\n      <td>0.0</td>\n      <td>3.0</td>\n      <td>S</td>\n      <td>NaN</td>\n      <td>373450</td>\n      <td>8.0500</td>\n    </tr>\n  </tbody>\n</table>\n</div>"
     },
     "execution_count": 63,
     "metadata": {},
     "output_type": "execute_result"
    }
   ],
   "source": [
    "pd.merge(passengers, trip, how='left',on=['PassengerId']).head()"
   ]
  },
  {
   "cell_type": "code",
   "execution_count": 64,
   "metadata": {
    "ExecuteTime": {
     "end_time": "2023-09-01T06:35:36.680667Z",
     "start_time": "2023-09-01T06:35:36.656574Z"
    }
   },
   "outputs": [
    {
     "data": {
      "text/plain": "   PassengerId                                               Name     Sex  \\\n0            2  Cumings, Mrs. John Bradley (Florence Briggs Th...  female   \n1            3                             Heikkinen, Miss. Laina  female   \n2            4       Futrelle, Mrs. Jacques Heath (Lily May Peel)  female   \n3            5                           Allen, Mr. William Henry    male   \n4            6                                   Moran, Mr. James    male   \n\n    Age  SibSp  Parch  Survived  Pclass Embarked Cabin            Ticket  \\\n0  38.0      1      0         1       1        C   C85          PC 17599   \n1  26.0      0      0         1       3        S   NaN  STON/O2. 3101282   \n2  35.0      1      0         1       1        S  C123            113803   \n3  35.0      0      0         0       3        S   NaN            373450   \n4   NaN      0      0         0       3        Q   NaN            330877   \n\n      Fare  \n0  71.2833  \n1   7.9250  \n2  53.1000  \n3   8.0500  \n4   8.4583  ",
      "text/html": "<div>\n<style scoped>\n    .dataframe tbody tr th:only-of-type {\n        vertical-align: middle;\n    }\n\n    .dataframe tbody tr th {\n        vertical-align: top;\n    }\n\n    .dataframe thead th {\n        text-align: right;\n    }\n</style>\n<table border=\"1\" class=\"dataframe\">\n  <thead>\n    <tr style=\"text-align: right;\">\n      <th></th>\n      <th>PassengerId</th>\n      <th>Name</th>\n      <th>Sex</th>\n      <th>Age</th>\n      <th>SibSp</th>\n      <th>Parch</th>\n      <th>Survived</th>\n      <th>Pclass</th>\n      <th>Embarked</th>\n      <th>Cabin</th>\n      <th>Ticket</th>\n      <th>Fare</th>\n    </tr>\n  </thead>\n  <tbody>\n    <tr>\n      <th>0</th>\n      <td>2</td>\n      <td>Cumings, Mrs. John Bradley (Florence Briggs Th...</td>\n      <td>female</td>\n      <td>38.0</td>\n      <td>1</td>\n      <td>0</td>\n      <td>1</td>\n      <td>1</td>\n      <td>C</td>\n      <td>C85</td>\n      <td>PC 17599</td>\n      <td>71.2833</td>\n    </tr>\n    <tr>\n      <th>1</th>\n      <td>3</td>\n      <td>Heikkinen, Miss. Laina</td>\n      <td>female</td>\n      <td>26.0</td>\n      <td>0</td>\n      <td>0</td>\n      <td>1</td>\n      <td>3</td>\n      <td>S</td>\n      <td>NaN</td>\n      <td>STON/O2. 3101282</td>\n      <td>7.9250</td>\n    </tr>\n    <tr>\n      <th>2</th>\n      <td>4</td>\n      <td>Futrelle, Mrs. Jacques Heath (Lily May Peel)</td>\n      <td>female</td>\n      <td>35.0</td>\n      <td>1</td>\n      <td>0</td>\n      <td>1</td>\n      <td>1</td>\n      <td>S</td>\n      <td>C123</td>\n      <td>113803</td>\n      <td>53.1000</td>\n    </tr>\n    <tr>\n      <th>3</th>\n      <td>5</td>\n      <td>Allen, Mr. William Henry</td>\n      <td>male</td>\n      <td>35.0</td>\n      <td>0</td>\n      <td>0</td>\n      <td>0</td>\n      <td>3</td>\n      <td>S</td>\n      <td>NaN</td>\n      <td>373450</td>\n      <td>8.0500</td>\n    </tr>\n    <tr>\n      <th>4</th>\n      <td>6</td>\n      <td>Moran, Mr. James</td>\n      <td>male</td>\n      <td>NaN</td>\n      <td>0</td>\n      <td>0</td>\n      <td>0</td>\n      <td>3</td>\n      <td>Q</td>\n      <td>NaN</td>\n      <td>330877</td>\n      <td>8.4583</td>\n    </tr>\n  </tbody>\n</table>\n</div>"
     },
     "execution_count": 64,
     "metadata": {},
     "output_type": "execute_result"
    }
   ],
   "source": [
    "pd.merge(passengers, trip, how='right',on=['PassengerId']).head()"
   ]
  },
  {
   "cell_type": "markdown",
   "metadata": {},
   "source": [
    "<a id='de5'></a>\n",
    "### 3.E Joining ([to top](#top))\n",
    "Joining is a convenient method for combining the columns of two **potentially differently-indexed** DataFrames into a single DataFrame based on 'index keys'."
   ]
  },
  {
   "cell_type": "code",
   "execution_count": 65,
   "metadata": {
    "ExecuteTime": {
     "end_time": "2023-09-01T06:35:37.408208Z",
     "start_time": "2023-09-01T06:35:37.398923Z"
    }
   },
   "outputs": [],
   "source": [
    "left = pd.DataFrame({'A': ['A0', 'A1', 'A2'],\n",
    "                     'B': ['B0', 'B1', 'B2']},\n",
    "                      index=['K0', 'K1', 'K2']) \n",
    "\n",
    "right = pd.DataFrame({'C': ['C0', 'C2', 'C3'],\n",
    "                      'D': ['D0', 'D2', 'D3']},\n",
    "                      index=['K0', 'K2', 'K3'])"
   ]
  },
  {
   "cell_type": "code",
   "execution_count": 66,
   "metadata": {
    "ExecuteTime": {
     "end_time": "2023-09-01T06:35:38.003536Z",
     "start_time": "2023-09-01T06:35:37.995955Z"
    }
   },
   "outputs": [
    {
     "data": {
      "text/plain": "     A   B    C    D\nK0  A0  B0   C0   D0\nK1  A1  B1  NaN  NaN\nK2  A2  B2   C2   D2",
      "text/html": "<div>\n<style scoped>\n    .dataframe tbody tr th:only-of-type {\n        vertical-align: middle;\n    }\n\n    .dataframe tbody tr th {\n        vertical-align: top;\n    }\n\n    .dataframe thead th {\n        text-align: right;\n    }\n</style>\n<table border=\"1\" class=\"dataframe\">\n  <thead>\n    <tr style=\"text-align: right;\">\n      <th></th>\n      <th>A</th>\n      <th>B</th>\n      <th>C</th>\n      <th>D</th>\n    </tr>\n  </thead>\n  <tbody>\n    <tr>\n      <th>K0</th>\n      <td>A0</td>\n      <td>B0</td>\n      <td>C0</td>\n      <td>D0</td>\n    </tr>\n    <tr>\n      <th>K1</th>\n      <td>A1</td>\n      <td>B1</td>\n      <td>NaN</td>\n      <td>NaN</td>\n    </tr>\n    <tr>\n      <th>K2</th>\n      <td>A2</td>\n      <td>B2</td>\n      <td>C2</td>\n      <td>D2</td>\n    </tr>\n  </tbody>\n</table>\n</div>"
     },
     "execution_count": 66,
     "metadata": {},
     "output_type": "execute_result"
    }
   ],
   "source": [
    "left.join(right)"
   ]
  },
  {
   "cell_type": "code",
   "execution_count": 67,
   "metadata": {
    "ExecuteTime": {
     "end_time": "2023-09-01T06:35:38.756880Z",
     "start_time": "2023-09-01T06:35:38.736498Z"
    }
   },
   "outputs": [
    {
     "data": {
      "text/plain": "      A    B    C    D\nK0   A0   B0   C0   D0\nK1   A1   B1  NaN  NaN\nK2   A2   B2   C2   D2\nK3  NaN  NaN   C3   D3",
      "text/html": "<div>\n<style scoped>\n    .dataframe tbody tr th:only-of-type {\n        vertical-align: middle;\n    }\n\n    .dataframe tbody tr th {\n        vertical-align: top;\n    }\n\n    .dataframe thead th {\n        text-align: right;\n    }\n</style>\n<table border=\"1\" class=\"dataframe\">\n  <thead>\n    <tr style=\"text-align: right;\">\n      <th></th>\n      <th>A</th>\n      <th>B</th>\n      <th>C</th>\n      <th>D</th>\n    </tr>\n  </thead>\n  <tbody>\n    <tr>\n      <th>K0</th>\n      <td>A0</td>\n      <td>B0</td>\n      <td>C0</td>\n      <td>D0</td>\n    </tr>\n    <tr>\n      <th>K1</th>\n      <td>A1</td>\n      <td>B1</td>\n      <td>NaN</td>\n      <td>NaN</td>\n    </tr>\n    <tr>\n      <th>K2</th>\n      <td>A2</td>\n      <td>B2</td>\n      <td>C2</td>\n      <td>D2</td>\n    </tr>\n    <tr>\n      <th>K3</th>\n      <td>NaN</td>\n      <td>NaN</td>\n      <td>C3</td>\n      <td>D3</td>\n    </tr>\n  </tbody>\n</table>\n</div>"
     },
     "execution_count": 67,
     "metadata": {},
     "output_type": "execute_result"
    }
   ],
   "source": [
    "left.join(right, how='outer')"
   ]
  },
  {
   "cell_type": "markdown",
   "metadata": {},
   "source": [
    "<a id='de6'></a>\n",
    "### 3.F Miscellanea ([to top](#top))"
   ]
  },
  {
   "cell_type": "markdown",
   "metadata": {},
   "source": [
    "#### Applying functions to DataFrame values\n",
    "Pandas works with 'apply' method to accept any user-defined function..."
   ]
  },
  {
   "cell_type": "code",
   "execution_count": 68,
   "metadata": {
    "ExecuteTime": {
     "end_time": "2023-09-01T06:35:40.186875Z",
     "start_time": "2023-09-01T06:35:40.175559Z"
    }
   },
   "outputs": [],
   "source": [
    "# Define a function\n",
    "def adulthood(x):\n",
    "    if x<18:\n",
    "        return False\n",
    "    else:\n",
    "        return True"
   ]
  },
  {
   "cell_type": "code",
   "execution_count": 69,
   "metadata": {
    "ExecuteTime": {
     "end_time": "2023-09-01T06:35:40.758459Z",
     "start_time": "2023-09-01T06:35:40.739731Z"
    }
   },
   "outputs": [
    {
     "data": {
      "text/plain": "   PassengerId                                               Name     Sex  \\\n0            1                            Braund, Mr. Owen Harris    male   \n1            2  Cumings, Mrs. John Bradley (Florence Briggs Th...  female   \n2            3                             Heikkinen, Miss. Laina  female   \n3            4       Futrelle, Mrs. Jacques Heath (Lily May Peel)  female   \n4            5                           Allen, Mr. William Henry    male   \n\n    Age  SibSp  Parch  Adult  \n0  22.0      1      0   True  \n1  38.0      1      0   True  \n2  26.0      0      0   True  \n3  35.0      1      0   True  \n4  35.0      0      0   True  ",
      "text/html": "<div>\n<style scoped>\n    .dataframe tbody tr th:only-of-type {\n        vertical-align: middle;\n    }\n\n    .dataframe tbody tr th {\n        vertical-align: top;\n    }\n\n    .dataframe thead th {\n        text-align: right;\n    }\n</style>\n<table border=\"1\" class=\"dataframe\">\n  <thead>\n    <tr style=\"text-align: right;\">\n      <th></th>\n      <th>PassengerId</th>\n      <th>Name</th>\n      <th>Sex</th>\n      <th>Age</th>\n      <th>SibSp</th>\n      <th>Parch</th>\n      <th>Adult</th>\n    </tr>\n  </thead>\n  <tbody>\n    <tr>\n      <th>0</th>\n      <td>1</td>\n      <td>Braund, Mr. Owen Harris</td>\n      <td>male</td>\n      <td>22.0</td>\n      <td>1</td>\n      <td>0</td>\n      <td>True</td>\n    </tr>\n    <tr>\n      <th>1</th>\n      <td>2</td>\n      <td>Cumings, Mrs. John Bradley (Florence Briggs Th...</td>\n      <td>female</td>\n      <td>38.0</td>\n      <td>1</td>\n      <td>0</td>\n      <td>True</td>\n    </tr>\n    <tr>\n      <th>2</th>\n      <td>3</td>\n      <td>Heikkinen, Miss. Laina</td>\n      <td>female</td>\n      <td>26.0</td>\n      <td>0</td>\n      <td>0</td>\n      <td>True</td>\n    </tr>\n    <tr>\n      <th>3</th>\n      <td>4</td>\n      <td>Futrelle, Mrs. Jacques Heath (Lily May Peel)</td>\n      <td>female</td>\n      <td>35.0</td>\n      <td>1</td>\n      <td>0</td>\n      <td>True</td>\n    </tr>\n    <tr>\n      <th>4</th>\n      <td>5</td>\n      <td>Allen, Mr. William Henry</td>\n      <td>male</td>\n      <td>35.0</td>\n      <td>0</td>\n      <td>0</td>\n      <td>True</td>\n    </tr>\n  </tbody>\n</table>\n</div>"
     },
     "execution_count": 69,
     "metadata": {},
     "output_type": "execute_result"
    }
   ],
   "source": [
    "passengers['Adult'] = passengers['Age'].apply(adulthood)\n",
    "passengers.head()"
   ]
  },
  {
   "cell_type": "markdown",
   "metadata": {},
   "source": [
    "... as well as with **built-in ones**"
   ]
  },
  {
   "cell_type": "code",
   "execution_count": 70,
   "metadata": {
    "ExecuteTime": {
     "end_time": "2023-09-01T06:35:41.990356Z",
     "start_time": "2023-09-01T06:35:41.973953Z"
    }
   },
   "outputs": [
    {
     "data": {
      "text/plain": "   PassengerId                                               Name     Sex  \\\n0            1                            Braund, Mr. Owen Harris    male   \n1            2  Cumings, Mrs. John Bradley (Florence Briggs Th...  female   \n2            3                             Heikkinen, Miss. Laina  female   \n3            4       Futrelle, Mrs. Jacques Heath (Lily May Peel)  female   \n4            5                           Allen, Mr. William Henry    male   \n\n    Age  SibSp  Parch  Adult  Name Length  \n0  22.0      1      0   True           23  \n1  38.0      1      0   True           51  \n2  26.0      0      0   True           22  \n3  35.0      1      0   True           44  \n4  35.0      0      0   True           24  ",
      "text/html": "<div>\n<style scoped>\n    .dataframe tbody tr th:only-of-type {\n        vertical-align: middle;\n    }\n\n    .dataframe tbody tr th {\n        vertical-align: top;\n    }\n\n    .dataframe thead th {\n        text-align: right;\n    }\n</style>\n<table border=\"1\" class=\"dataframe\">\n  <thead>\n    <tr style=\"text-align: right;\">\n      <th></th>\n      <th>PassengerId</th>\n      <th>Name</th>\n      <th>Sex</th>\n      <th>Age</th>\n      <th>SibSp</th>\n      <th>Parch</th>\n      <th>Adult</th>\n      <th>Name Length</th>\n    </tr>\n  </thead>\n  <tbody>\n    <tr>\n      <th>0</th>\n      <td>1</td>\n      <td>Braund, Mr. Owen Harris</td>\n      <td>male</td>\n      <td>22.0</td>\n      <td>1</td>\n      <td>0</td>\n      <td>True</td>\n      <td>23</td>\n    </tr>\n    <tr>\n      <th>1</th>\n      <td>2</td>\n      <td>Cumings, Mrs. John Bradley (Florence Briggs Th...</td>\n      <td>female</td>\n      <td>38.0</td>\n      <td>1</td>\n      <td>0</td>\n      <td>True</td>\n      <td>51</td>\n    </tr>\n    <tr>\n      <th>2</th>\n      <td>3</td>\n      <td>Heikkinen, Miss. Laina</td>\n      <td>female</td>\n      <td>26.0</td>\n      <td>0</td>\n      <td>0</td>\n      <td>True</td>\n      <td>22</td>\n    </tr>\n    <tr>\n      <th>3</th>\n      <td>4</td>\n      <td>Futrelle, Mrs. Jacques Heath (Lily May Peel)</td>\n      <td>female</td>\n      <td>35.0</td>\n      <td>1</td>\n      <td>0</td>\n      <td>True</td>\n      <td>44</td>\n    </tr>\n    <tr>\n      <th>4</th>\n      <td>5</td>\n      <td>Allen, Mr. William Henry</td>\n      <td>male</td>\n      <td>35.0</td>\n      <td>0</td>\n      <td>0</td>\n      <td>True</td>\n      <td>24</td>\n    </tr>\n  </tbody>\n</table>\n</div>"
     },
     "execution_count": 70,
     "metadata": {},
     "output_type": "execute_result"
    }
   ],
   "source": [
    "passengers['Name Length']= passengers['Name'].apply(len)\n",
    "passengers.head()"
   ]
  },
  {
   "cell_type": "markdown",
   "metadata": {},
   "source": [
    "#### Standard statistical functions"
   ]
  },
  {
   "cell_type": "code",
   "execution_count": 71,
   "metadata": {
    "ExecuteTime": {
     "end_time": "2023-09-01T06:35:42.611657Z",
     "start_time": "2023-09-01T06:35:42.601334Z"
    }
   },
   "outputs": [
    {
     "data": {
      "text/plain": "80.0"
     },
     "execution_count": 71,
     "metadata": {},
     "output_type": "execute_result"
    }
   ],
   "source": [
    "passengers['Age'].max()"
   ]
  },
  {
   "cell_type": "code",
   "execution_count": 72,
   "metadata": {
    "ExecuteTime": {
     "end_time": "2023-09-01T06:35:42.922412Z",
     "start_time": "2023-09-01T06:35:42.910594Z"
    }
   },
   "outputs": [
    {
     "data": {
      "text/plain": "29.69911764705882"
     },
     "execution_count": 72,
     "metadata": {},
     "output_type": "execute_result"
    }
   ],
   "source": [
    "passengers['Age'].mean()"
   ]
  },
  {
   "cell_type": "code",
   "execution_count": 73,
   "metadata": {
    "ExecuteTime": {
     "end_time": "2023-09-01T06:35:43.236705Z",
     "start_time": "2023-09-01T06:35:43.227262Z"
    }
   },
   "outputs": [
    {
     "data": {
      "text/plain": "14.526497332334044"
     },
     "execution_count": 73,
     "metadata": {},
     "output_type": "execute_result"
    }
   ],
   "source": [
    "passengers['Age'].std()"
   ]
  },
  {
   "cell_type": "code",
   "execution_count": 74,
   "metadata": {
    "ExecuteTime": {
     "end_time": "2023-09-01T06:35:43.602707Z",
     "start_time": "2023-09-01T06:35:43.580182Z"
    }
   },
   "outputs": [
    {
     "data": {
      "text/plain": "0.42"
     },
     "execution_count": 74,
     "metadata": {},
     "output_type": "execute_result"
    }
   ],
   "source": [
    "passengers['Age'].min()"
   ]
  },
  {
   "cell_type": "markdown",
   "metadata": {},
   "source": [
    "#### Get the list of column and row names"
   ]
  },
  {
   "cell_type": "markdown",
   "metadata": {},
   "source": [
    "Getting column names"
   ]
  },
  {
   "cell_type": "code",
   "execution_count": 75,
   "metadata": {
    "ExecuteTime": {
     "end_time": "2023-09-01T06:35:44.911235Z",
     "start_time": "2023-09-01T06:35:44.889289Z"
    }
   },
   "outputs": [
    {
     "data": {
      "text/plain": "Index(['PassengerId', 'Name', 'Sex', 'Age', 'SibSp', 'Parch', 'Adult',\n       'Name Length'],\n      dtype='object')"
     },
     "execution_count": 75,
     "metadata": {},
     "output_type": "execute_result"
    }
   ],
   "source": [
    "passengers.columns"
   ]
  },
  {
   "cell_type": "markdown",
   "metadata": {},
   "source": [
    "#### Deletion by *del* command \n",
    "(N.B.: This affects the dataframe immediately, unlike drop method)"
   ]
  },
  {
   "cell_type": "code",
   "execution_count": 76,
   "metadata": {
    "ExecuteTime": {
     "end_time": "2023-09-01T06:35:45.725129Z",
     "start_time": "2023-09-01T06:35:45.707563Z"
    }
   },
   "outputs": [
    {
     "data": {
      "text/plain": "   PassengerId                                               Name     Sex  \\\n0            1                            Braund, Mr. Owen Harris    male   \n1            2  Cumings, Mrs. John Bradley (Florence Briggs Th...  female   \n2            3                             Heikkinen, Miss. Laina  female   \n3            4       Futrelle, Mrs. Jacques Heath (Lily May Peel)  female   \n4            5                           Allen, Mr. William Henry    male   \n\n    Age  SibSp  Parch  Adult  \n0  22.0      1      0   True  \n1  38.0      1      0   True  \n2  26.0      0      0   True  \n3  35.0      1      0   True  \n4  35.0      0      0   True  ",
      "text/html": "<div>\n<style scoped>\n    .dataframe tbody tr th:only-of-type {\n        vertical-align: middle;\n    }\n\n    .dataframe tbody tr th {\n        vertical-align: top;\n    }\n\n    .dataframe thead th {\n        text-align: right;\n    }\n</style>\n<table border=\"1\" class=\"dataframe\">\n  <thead>\n    <tr style=\"text-align: right;\">\n      <th></th>\n      <th>PassengerId</th>\n      <th>Name</th>\n      <th>Sex</th>\n      <th>Age</th>\n      <th>SibSp</th>\n      <th>Parch</th>\n      <th>Adult</th>\n    </tr>\n  </thead>\n  <tbody>\n    <tr>\n      <th>0</th>\n      <td>1</td>\n      <td>Braund, Mr. Owen Harris</td>\n      <td>male</td>\n      <td>22.0</td>\n      <td>1</td>\n      <td>0</td>\n      <td>True</td>\n    </tr>\n    <tr>\n      <th>1</th>\n      <td>2</td>\n      <td>Cumings, Mrs. John Bradley (Florence Briggs Th...</td>\n      <td>female</td>\n      <td>38.0</td>\n      <td>1</td>\n      <td>0</td>\n      <td>True</td>\n    </tr>\n    <tr>\n      <th>2</th>\n      <td>3</td>\n      <td>Heikkinen, Miss. Laina</td>\n      <td>female</td>\n      <td>26.0</td>\n      <td>0</td>\n      <td>0</td>\n      <td>True</td>\n    </tr>\n    <tr>\n      <th>3</th>\n      <td>4</td>\n      <td>Futrelle, Mrs. Jacques Heath (Lily May Peel)</td>\n      <td>female</td>\n      <td>35.0</td>\n      <td>1</td>\n      <td>0</td>\n      <td>True</td>\n    </tr>\n    <tr>\n      <th>4</th>\n      <td>5</td>\n      <td>Allen, Mr. William Henry</td>\n      <td>male</td>\n      <td>35.0</td>\n      <td>0</td>\n      <td>0</td>\n      <td>True</td>\n    </tr>\n  </tbody>\n</table>\n</div>"
     },
     "execution_count": 76,
     "metadata": {},
     "output_type": "execute_result"
    }
   ],
   "source": [
    "del passengers['Name Length']\n",
    "passengers.head()"
   ]
  },
  {
   "cell_type": "markdown",
   "metadata": {},
   "source": [
    "#### Sorting and Ordering a DataFrame"
   ]
  },
  {
   "cell_type": "code",
   "execution_count": 77,
   "metadata": {
    "ExecuteTime": {
     "end_time": "2023-09-01T06:35:46.351280Z",
     "start_time": "2023-09-01T06:35:46.340301Z"
    }
   },
   "outputs": [
    {
     "data": {
      "text/plain": "     PassengerId                             Name     Sex   Age  SibSp  Parch  \\\n803          804  Thomas, Master. Assad Alexander    male  0.42      0      1   \n755          756        Hamalainen, Master. Viljo    male  0.67      1      1   \n644          645           Baclini, Miss. Eugenie  female  0.75      2      1   \n469          470    Baclini, Miss. Helene Barbara  female  0.75      2      1   \n78            79    Caldwell, Master. Alden Gates    male  0.83      0      2   \n\n     Adult  \n803  False  \n755  False  \n644  False  \n469  False  \n78   False  ",
      "text/html": "<div>\n<style scoped>\n    .dataframe tbody tr th:only-of-type {\n        vertical-align: middle;\n    }\n\n    .dataframe tbody tr th {\n        vertical-align: top;\n    }\n\n    .dataframe thead th {\n        text-align: right;\n    }\n</style>\n<table border=\"1\" class=\"dataframe\">\n  <thead>\n    <tr style=\"text-align: right;\">\n      <th></th>\n      <th>PassengerId</th>\n      <th>Name</th>\n      <th>Sex</th>\n      <th>Age</th>\n      <th>SibSp</th>\n      <th>Parch</th>\n      <th>Adult</th>\n    </tr>\n  </thead>\n  <tbody>\n    <tr>\n      <th>803</th>\n      <td>804</td>\n      <td>Thomas, Master. Assad Alexander</td>\n      <td>male</td>\n      <td>0.42</td>\n      <td>0</td>\n      <td>1</td>\n      <td>False</td>\n    </tr>\n    <tr>\n      <th>755</th>\n      <td>756</td>\n      <td>Hamalainen, Master. Viljo</td>\n      <td>male</td>\n      <td>0.67</td>\n      <td>1</td>\n      <td>1</td>\n      <td>False</td>\n    </tr>\n    <tr>\n      <th>644</th>\n      <td>645</td>\n      <td>Baclini, Miss. Eugenie</td>\n      <td>female</td>\n      <td>0.75</td>\n      <td>2</td>\n      <td>1</td>\n      <td>False</td>\n    </tr>\n    <tr>\n      <th>469</th>\n      <td>470</td>\n      <td>Baclini, Miss. Helene Barbara</td>\n      <td>female</td>\n      <td>0.75</td>\n      <td>2</td>\n      <td>1</td>\n      <td>False</td>\n    </tr>\n    <tr>\n      <th>78</th>\n      <td>79</td>\n      <td>Caldwell, Master. Alden Gates</td>\n      <td>male</td>\n      <td>0.83</td>\n      <td>0</td>\n      <td>2</td>\n      <td>False</td>\n    </tr>\n  </tbody>\n</table>\n</div>"
     },
     "execution_count": 77,
     "metadata": {},
     "output_type": "execute_result"
    }
   ],
   "source": [
    "passengers.sort_values(by='Age').head()"
   ]
  },
  {
   "cell_type": "code",
   "execution_count": 78,
   "metadata": {
    "ExecuteTime": {
     "end_time": "2023-09-01T06:35:46.661637Z",
     "start_time": "2023-09-01T06:35:46.640060Z"
    }
   },
   "outputs": [
    {
     "data": {
      "text/plain": "     PassengerId                                  Name   Sex   Age  SibSp  \\\n630          631  Barkworth, Mr. Algernon Henry Wilson  male  80.0      0   \n851          852                   Svensson, Mr. Johan  male  74.0      0   \n493          494               Artagaveytia, Mr. Ramon  male  71.0      0   \n96            97             Goldschmidt, Mr. George B  male  71.0      0   \n116          117                  Connors, Mr. Patrick  male  70.5      0   \n\n     Parch  Adult  \n630      0   True  \n851      0   True  \n493      0   True  \n96       0   True  \n116      0   True  ",
      "text/html": "<div>\n<style scoped>\n    .dataframe tbody tr th:only-of-type {\n        vertical-align: middle;\n    }\n\n    .dataframe tbody tr th {\n        vertical-align: top;\n    }\n\n    .dataframe thead th {\n        text-align: right;\n    }\n</style>\n<table border=\"1\" class=\"dataframe\">\n  <thead>\n    <tr style=\"text-align: right;\">\n      <th></th>\n      <th>PassengerId</th>\n      <th>Name</th>\n      <th>Sex</th>\n      <th>Age</th>\n      <th>SibSp</th>\n      <th>Parch</th>\n      <th>Adult</th>\n    </tr>\n  </thead>\n  <tbody>\n    <tr>\n      <th>630</th>\n      <td>631</td>\n      <td>Barkworth, Mr. Algernon Henry Wilson</td>\n      <td>male</td>\n      <td>80.0</td>\n      <td>0</td>\n      <td>0</td>\n      <td>True</td>\n    </tr>\n    <tr>\n      <th>851</th>\n      <td>852</td>\n      <td>Svensson, Mr. Johan</td>\n      <td>male</td>\n      <td>74.0</td>\n      <td>0</td>\n      <td>0</td>\n      <td>True</td>\n    </tr>\n    <tr>\n      <th>493</th>\n      <td>494</td>\n      <td>Artagaveytia, Mr. Ramon</td>\n      <td>male</td>\n      <td>71.0</td>\n      <td>0</td>\n      <td>0</td>\n      <td>True</td>\n    </tr>\n    <tr>\n      <th>96</th>\n      <td>97</td>\n      <td>Goldschmidt, Mr. George B</td>\n      <td>male</td>\n      <td>71.0</td>\n      <td>0</td>\n      <td>0</td>\n      <td>True</td>\n    </tr>\n    <tr>\n      <th>116</th>\n      <td>117</td>\n      <td>Connors, Mr. Patrick</td>\n      <td>male</td>\n      <td>70.5</td>\n      <td>0</td>\n      <td>0</td>\n      <td>True</td>\n    </tr>\n  </tbody>\n</table>\n</div>"
     },
     "execution_count": 78,
     "metadata": {},
     "output_type": "execute_result"
    }
   ],
   "source": [
    "passengers.sort_values(by='Age',ascending=False).head()"
   ]
  },
  {
   "cell_type": "markdown",
   "metadata": {},
   "source": [
    "#### Find Null Values or Check for Null Values"
   ]
  },
  {
   "cell_type": "code",
   "execution_count": 79,
   "metadata": {
    "ExecuteTime": {
     "end_time": "2023-09-01T06:35:47.231005Z",
     "start_time": "2023-09-01T06:35:47.220300Z"
    }
   },
   "outputs": [
    {
     "data": {
      "text/plain": "   PassengerId   Name    Sex    Age  Family\n1        False  False  False  False   False\n2        False  False  False  False   False\n3        False  False  False  False   False\n4        False  False  False  False   False\n5        False  False  False   True   False",
      "text/html": "<div>\n<style scoped>\n    .dataframe tbody tr th:only-of-type {\n        vertical-align: middle;\n    }\n\n    .dataframe tbody tr th {\n        vertical-align: top;\n    }\n\n    .dataframe thead th {\n        text-align: right;\n    }\n</style>\n<table border=\"1\" class=\"dataframe\">\n  <thead>\n    <tr style=\"text-align: right;\">\n      <th></th>\n      <th>PassengerId</th>\n      <th>Name</th>\n      <th>Sex</th>\n      <th>Age</th>\n      <th>Family</th>\n    </tr>\n  </thead>\n  <tbody>\n    <tr>\n      <th>1</th>\n      <td>False</td>\n      <td>False</td>\n      <td>False</td>\n      <td>False</td>\n      <td>False</td>\n    </tr>\n    <tr>\n      <th>2</th>\n      <td>False</td>\n      <td>False</td>\n      <td>False</td>\n      <td>False</td>\n      <td>False</td>\n    </tr>\n    <tr>\n      <th>3</th>\n      <td>False</td>\n      <td>False</td>\n      <td>False</td>\n      <td>False</td>\n      <td>False</td>\n    </tr>\n    <tr>\n      <th>4</th>\n      <td>False</td>\n      <td>False</td>\n      <td>False</td>\n      <td>False</td>\n      <td>False</td>\n    </tr>\n    <tr>\n      <th>5</th>\n      <td>False</td>\n      <td>False</td>\n      <td>False</td>\n      <td>True</td>\n      <td>False</td>\n    </tr>\n  </tbody>\n</table>\n</div>"
     },
     "execution_count": 79,
     "metadata": {},
     "output_type": "execute_result"
    }
   ],
   "source": [
    "titanic.isnull().head()"
   ]
  },
  {
   "cell_type": "code",
   "execution_count": 80,
   "metadata": {
    "ExecuteTime": {
     "end_time": "2023-09-01T06:35:47.524644Z",
     "start_time": "2023-09-01T06:35:47.505760Z"
    }
   },
   "outputs": [
    {
     "data": {
      "text/plain": "   PassengerId                                               Name     Sex  \\\n1            2  Cumings, Mrs. John Bradley (Florence Briggs Th...  female   \n2            3                             Heikkinen, Miss. Laina  female   \n3            4       Futrelle, Mrs. Jacques Heath (Lily May Peel)  female   \n4            5                           Allen, Mr. William Henry    male   \n5            6                                   Moran, Mr. James    male   \n\n          Age  Family  \n1        38.0       1  \n2        26.0       0  \n3        35.0       1  \n4        35.0       0  \n5  FAKE VALUE       0  ",
      "text/html": "<div>\n<style scoped>\n    .dataframe tbody tr th:only-of-type {\n        vertical-align: middle;\n    }\n\n    .dataframe tbody tr th {\n        vertical-align: top;\n    }\n\n    .dataframe thead th {\n        text-align: right;\n    }\n</style>\n<table border=\"1\" class=\"dataframe\">\n  <thead>\n    <tr style=\"text-align: right;\">\n      <th></th>\n      <th>PassengerId</th>\n      <th>Name</th>\n      <th>Sex</th>\n      <th>Age</th>\n      <th>Family</th>\n    </tr>\n  </thead>\n  <tbody>\n    <tr>\n      <th>1</th>\n      <td>2</td>\n      <td>Cumings, Mrs. John Bradley (Florence Briggs Th...</td>\n      <td>female</td>\n      <td>38.0</td>\n      <td>1</td>\n    </tr>\n    <tr>\n      <th>2</th>\n      <td>3</td>\n      <td>Heikkinen, Miss. Laina</td>\n      <td>female</td>\n      <td>26.0</td>\n      <td>0</td>\n    </tr>\n    <tr>\n      <th>3</th>\n      <td>4</td>\n      <td>Futrelle, Mrs. Jacques Heath (Lily May Peel)</td>\n      <td>female</td>\n      <td>35.0</td>\n      <td>1</td>\n    </tr>\n    <tr>\n      <th>4</th>\n      <td>5</td>\n      <td>Allen, Mr. William Henry</td>\n      <td>male</td>\n      <td>35.0</td>\n      <td>0</td>\n    </tr>\n    <tr>\n      <th>5</th>\n      <td>6</td>\n      <td>Moran, Mr. James</td>\n      <td>male</td>\n      <td>FAKE VALUE</td>\n      <td>0</td>\n    </tr>\n  </tbody>\n</table>\n</div>"
     },
     "execution_count": 80,
     "metadata": {},
     "output_type": "execute_result"
    }
   ],
   "source": [
    "titanic.fillna('FAKE VALUE').head()"
   ]
  },
  {
   "cell_type": "markdown",
   "metadata": {},
   "source": [
    "#### Pivot Table"
   ]
  },
  {
   "cell_type": "code",
   "execution_count": 81,
   "metadata": {
    "ExecuteTime": {
     "end_time": "2023-09-01T06:35:48.095998Z",
     "start_time": "2023-09-01T06:35:48.054482Z"
    }
   },
   "outputs": [
    {
     "data": {
      "text/plain": "SibSp           0          1          2      3         4      5\nSex                                                            \nfemale  28.631944  30.738889  16.541667  16.50  8.333333  16.00\nmale    32.615443  29.461505  28.230769   8.75  6.416667   8.75",
      "text/html": "<div>\n<style scoped>\n    .dataframe tbody tr th:only-of-type {\n        vertical-align: middle;\n    }\n\n    .dataframe tbody tr th {\n        vertical-align: top;\n    }\n\n    .dataframe thead th {\n        text-align: right;\n    }\n</style>\n<table border=\"1\" class=\"dataframe\">\n  <thead>\n    <tr style=\"text-align: right;\">\n      <th>SibSp</th>\n      <th>0</th>\n      <th>1</th>\n      <th>2</th>\n      <th>3</th>\n      <th>4</th>\n      <th>5</th>\n    </tr>\n    <tr>\n      <th>Sex</th>\n      <th></th>\n      <th></th>\n      <th></th>\n      <th></th>\n      <th></th>\n      <th></th>\n    </tr>\n  </thead>\n  <tbody>\n    <tr>\n      <th>female</th>\n      <td>28.631944</td>\n      <td>30.738889</td>\n      <td>16.541667</td>\n      <td>16.50</td>\n      <td>8.333333</td>\n      <td>16.00</td>\n    </tr>\n    <tr>\n      <th>male</th>\n      <td>32.615443</td>\n      <td>29.461505</td>\n      <td>28.230769</td>\n      <td>8.75</td>\n      <td>6.416667</td>\n      <td>8.75</td>\n    </tr>\n  </tbody>\n</table>\n</div>"
     },
     "execution_count": 81,
     "metadata": {},
     "output_type": "execute_result"
    }
   ],
   "source": [
    "# Index out of 'Age', columns from 'SibSp', actual numerical values from 'Age'\n",
    "passengers.pivot_table(values='Age',index=['Sex'],columns=['SibSp'], aggfunc='mean')"
   ]
  },
  {
   "cell_type": "code",
   "execution_count": 82,
   "metadata": {
    "ExecuteTime": {
     "end_time": "2023-09-01T06:35:48.353640Z",
     "start_time": "2023-09-01T06:35:48.333481Z"
    }
   },
   "outputs": [
    {
     "data": {
      "text/plain": "Sex             female       male\nSibSp Parch                      \n0     0          30.15  32.901316\n      1      27.086957      33.53\n      2      20.705882  21.536667\n      3           24.0     FILLED\n      4           29.0     FILLED\n      5           40.0     FILLED\n1     0      31.806122  32.311321\n      1          29.16  25.258621\n      2           21.2  19.417143\n      3           51.0       16.0\n      4           45.0       52.0\n      5           38.5       39.0\n      6           43.0     FILLED\n2     0           35.5  31.181818\n      1            6.9       12.0\n      2          17.25     FILLED\n      3           24.0     FILLED\n3     0           31.5     FILLED\n      1            5.5        2.0\n      2           14.5       11.0\n4     1         FILLED   6.777778\n      2       8.333333   5.333333\n5     2           16.0       8.75",
      "text/html": "<div>\n<style scoped>\n    .dataframe tbody tr th:only-of-type {\n        vertical-align: middle;\n    }\n\n    .dataframe tbody tr th {\n        vertical-align: top;\n    }\n\n    .dataframe thead th {\n        text-align: right;\n    }\n</style>\n<table border=\"1\" class=\"dataframe\">\n  <thead>\n    <tr style=\"text-align: right;\">\n      <th></th>\n      <th>Sex</th>\n      <th>female</th>\n      <th>male</th>\n    </tr>\n    <tr>\n      <th>SibSp</th>\n      <th>Parch</th>\n      <th></th>\n      <th></th>\n    </tr>\n  </thead>\n  <tbody>\n    <tr>\n      <th rowspan=\"6\" valign=\"top\">0</th>\n      <th>0</th>\n      <td>30.15</td>\n      <td>32.901316</td>\n    </tr>\n    <tr>\n      <th>1</th>\n      <td>27.086957</td>\n      <td>33.53</td>\n    </tr>\n    <tr>\n      <th>2</th>\n      <td>20.705882</td>\n      <td>21.536667</td>\n    </tr>\n    <tr>\n      <th>3</th>\n      <td>24.0</td>\n      <td>FILLED</td>\n    </tr>\n    <tr>\n      <th>4</th>\n      <td>29.0</td>\n      <td>FILLED</td>\n    </tr>\n    <tr>\n      <th>5</th>\n      <td>40.0</td>\n      <td>FILLED</td>\n    </tr>\n    <tr>\n      <th rowspan=\"7\" valign=\"top\">1</th>\n      <th>0</th>\n      <td>31.806122</td>\n      <td>32.311321</td>\n    </tr>\n    <tr>\n      <th>1</th>\n      <td>29.16</td>\n      <td>25.258621</td>\n    </tr>\n    <tr>\n      <th>2</th>\n      <td>21.2</td>\n      <td>19.417143</td>\n    </tr>\n    <tr>\n      <th>3</th>\n      <td>51.0</td>\n      <td>16.0</td>\n    </tr>\n    <tr>\n      <th>4</th>\n      <td>45.0</td>\n      <td>52.0</td>\n    </tr>\n    <tr>\n      <th>5</th>\n      <td>38.5</td>\n      <td>39.0</td>\n    </tr>\n    <tr>\n      <th>6</th>\n      <td>43.0</td>\n      <td>FILLED</td>\n    </tr>\n    <tr>\n      <th rowspan=\"4\" valign=\"top\">2</th>\n      <th>0</th>\n      <td>35.5</td>\n      <td>31.181818</td>\n    </tr>\n    <tr>\n      <th>1</th>\n      <td>6.9</td>\n      <td>12.0</td>\n    </tr>\n    <tr>\n      <th>2</th>\n      <td>17.25</td>\n      <td>FILLED</td>\n    </tr>\n    <tr>\n      <th>3</th>\n      <td>24.0</td>\n      <td>FILLED</td>\n    </tr>\n    <tr>\n      <th rowspan=\"3\" valign=\"top\">3</th>\n      <th>0</th>\n      <td>31.5</td>\n      <td>FILLED</td>\n    </tr>\n    <tr>\n      <th>1</th>\n      <td>5.5</td>\n      <td>2.0</td>\n    </tr>\n    <tr>\n      <th>2</th>\n      <td>14.5</td>\n      <td>11.0</td>\n    </tr>\n    <tr>\n      <th rowspan=\"2\" valign=\"top\">4</th>\n      <th>1</th>\n      <td>FILLED</td>\n      <td>6.777778</td>\n    </tr>\n    <tr>\n      <th>2</th>\n      <td>8.333333</td>\n      <td>5.333333</td>\n    </tr>\n    <tr>\n      <th>5</th>\n      <th>2</th>\n      <td>16.0</td>\n      <td>8.75</td>\n    </tr>\n  </tbody>\n</table>\n</div>"
     },
     "execution_count": 82,
     "metadata": {},
     "output_type": "execute_result"
    }
   ],
   "source": [
    "# Index out of 'SibSp' and 'Parch', columns from 'Sex', actual numerical values from 'Age'\n",
    "passengers.pivot_table(values='Age',index=['SibSp', 'Parch'],columns=['Sex'], fill_value='FILLED', aggfunc='mean')"
   ]
  },
  {
   "cell_type": "markdown",
   "metadata": {
    "collapsed": true
   },
   "source": [
    "#### Check and reset variable types"
   ]
  },
  {
   "cell_type": "code",
   "execution_count": 83,
   "metadata": {
    "ExecuteTime": {
     "end_time": "2023-09-01T06:35:49.368379Z",
     "start_time": "2023-09-01T06:35:49.358216Z"
    }
   },
   "outputs": [
    {
     "data": {
      "text/plain": "PassengerId      int64\nName            object\nSex             object\nAge            float64\nSibSp            int64\nParch            int64\nAdult             bool\ndtype: object"
     },
     "execution_count": 83,
     "metadata": {},
     "output_type": "execute_result"
    }
   ],
   "source": [
    "passengers.dtypes"
   ]
  },
  {
   "cell_type": "code",
   "execution_count": 84,
   "metadata": {
    "ExecuteTime": {
     "end_time": "2023-09-01T06:35:49.981899Z",
     "start_time": "2023-09-01T06:35:49.972114Z"
    }
   },
   "outputs": [],
   "source": [
    "passengers.Age = passengers.Age.astype(float)"
   ]
  },
  {
   "cell_type": "code",
   "execution_count": 85,
   "metadata": {
    "ExecuteTime": {
     "end_time": "2023-09-01T06:35:50.537943Z",
     "start_time": "2023-09-01T06:35:50.527048Z"
    }
   },
   "outputs": [
    {
     "data": {
      "text/plain": "PassengerId      int64\nName            object\nSex             object\nAge            float64\nSibSp            int64\nParch            int64\nAdult             bool\ndtype: object"
     },
     "execution_count": 85,
     "metadata": {},
     "output_type": "execute_result"
    }
   ],
   "source": [
    "passengers.dtypes"
   ]
  },
  {
   "cell_type": "code",
   "execution_count": null,
   "metadata": {},
   "outputs": [],
   "source": []
  },
  {
   "cell_type": "code",
   "execution_count": null,
   "metadata": {},
   "outputs": [],
   "source": []
  }
 ],
 "metadata": {
  "kernelspec": {
   "name": "python3",
   "language": "python",
   "display_name": "Python 3 (ipykernel)"
  },
  "language_info": {
   "codemirror_mode": {
    "name": "ipython",
    "version": 3
   },
   "file_extension": ".py",
   "mimetype": "text/x-python",
   "name": "python",
   "nbconvert_exporter": "python",
   "pygments_lexer": "ipython3",
   "version": "3.6.2"
  }
 },
 "nbformat": 4,
 "nbformat_minor": 1
}
